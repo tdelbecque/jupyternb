{
 "cells": [
  {
   "cell_type": "code",
   "execution_count": 22,
   "metadata": {},
   "outputs": [
    {
     "data": {
      "application/javascript": [
       "CEHJ_setHeader ()\n",
       "CEHJ_setMenuForUser()\n",
       "CEHJ_setMenuForAdmin()"
      ],
      "text/plain": [
       "<IPython.core.display.Javascript object>"
      ]
     },
     "metadata": {},
     "output_type": "display_data"
    }
   ],
   "source": [
    "%%javascript\n",
    "CEHJ_setHeader ()\n",
    "CEHJ_setMenuForUser()\n",
    "CEHJ_setMenuForAdmin()"
   ]
  },
  {
   "cell_type": "code",
   "execution_count": 2,
   "metadata": {},
   "outputs": [
    {
     "data": {
      "text/plain": [
       "['',\n",
       " '/home/thierry/anaconda3/lib/python36.zip',\n",
       " '/home/thierry/anaconda3/lib/python3.6',\n",
       " '/home/thierry/anaconda3/lib/python3.6/lib-dynload',\n",
       " '/home/thierry/anaconda3/lib/python3.6/site-packages',\n",
       " '/home/thierry/anaconda3/lib/python3.6/site-packages/IPython/extensions',\n",
       " '/home/thierry/.ipython']"
      ]
     },
     "execution_count": 2,
     "metadata": {},
     "output_type": "execute_result"
    }
   ],
   "source": [
    "import sys\n",
    "sys.path"
   ]
  },
  {
   "cell_type": "code",
   "execution_count": 3,
   "metadata": {},
   "outputs": [
    {
     "data": {
      "text/html": [
       "\n",
       "<script type=\"text/javascript\"\n",
       "        src=\"https://cdnjs.cloudflare.com/ajax/libs/mathjax/2.7.2/MathJax.js?config=TeX-MML-AM_CHTML\">\n",
       "</script>\n",
       "<script>\n",
       "    code_show=false\n",
       "    function code_toggle() {\n",
       "      if (code_show){\n",
       "        $('div.input').hide();\n",
       "      } else {\n",
       "        $('div.input').show();\n",
       "      }\n",
       "      code_show = !code_show\n",
       "    } \n",
       "    $( document ).ready(code_toggle);\n",
       "</script>\n",
       "<a href=\"javascript:code_toggle()\">Mode administration / lecture</a>."
      ],
      "text/plain": [
       "<IPython.core.display.HTML object>"
      ]
     },
     "execution_count": 3,
     "metadata": {},
     "output_type": "execute_result"
    }
   ],
   "source": [
    "%load_ext tikzmagic\n",
    "%matplotlib inline\n",
    "\n",
    "import ipywidgets.widgets as widgets\n",
    "from IPython.display import display,HTML\n",
    "from importlib import reload\n",
    "import cehj\n",
    "import cehj.init\n",
    "import cehj.exo as exo\n",
    "import cehj.demo_interactivity\n",
    "from cehj.demo_interactivity import BetaSimulation\n",
    "\n",
    "cehj.init.init ()"
   ]
  },
  {
   "cell_type": "markdown",
   "metadata": {},
   "source": [
    "# Probabilités & Statistiques\n",
    "\n",
    "\n",
    "## Rappels sur les ensembles\n",
    "\n",
    "- Si $a$ est un élément de l’ensemble $E$, $a$ appartient à $E$, on écrit : $a\\in E$;  \n",
    "- Soit $A$ un ensemble dont tous les éléments appartiennent à $E$ : $A$ est une partie de $E$ ou un sous-ensemble de $E$, on écrit : $A\\subseteq E$;  \n",
    "- La réunion $A \\cup B$ de deux parties $A$ et $B$ de $E$ est constituée par les éléments qui appartiennent à $A$ ou à $B$ :\n",
    "\n",
    "$$A\\cup B\\stackrel{def}{=} \\{a\\in E\\hbox{, tel que } a\\in A\\hbox{ ou } a\\in B\\}$$\n",
    "\n",
    "- L’intersection $A\\cap B$ de deux parties $A$ et $B$ de $E$ est constituée par les éléments qui appartiennent à la fois à $A$ et à $B$ : \n",
    "\n",
    "$$A\\cap B\\stackrel{def}{=}\\{a\\in E\\hbox{, tel que }a\\in A\\hbox{ et }a\\in B\\}$$\n",
    "\n",
    "- $A$ étant une partie de $E$, le complémentaire $\\bar{A}$ de $A$ dans $E$ est l’ensemble des éléments de $E$ qui n’appartiennent pas à $A$ (on le note aussi $C_E A$) :\n",
    "\n",
    "$$\\bar{A}=C_E A\\stackrel{def}{=}\\{a\\in E\\hbox{, tel que } a\\notin A\\}$$\n",
    "\n",
    "- Deux ensembles sont disjoints lorsqu’ils n’ont pas d’élément commun : $A\\cap B=\\emptyset$  \n",
    "- Les parties d’un ensemble $E$ forment un ensemble noté $P(E)$  \n",
    "- Les parties non vides $A_1,\\ A_2 \\cdots,A_n$ constituent une partition de $E$ lorsqu’elles sont disjointes deux à deux et que leur réunion est $E$\n",
    "- Le cardinal d’un ensemble fini $E$ est le nombre $n$ de ses éléments : $Card (E)= n$\n",
    "- Si $A_1,A_2,\\cdots,A_n$ est une partition de $E$, alors\n",
    "\n",
    "$$\n",
    "\\begin{eqnarray}\n",
    "Card (E)&=&Card(A_1)+Card(A_2)+\\cdots+ Card(A_n) \\\\\n",
    "Card (\\bar{A})&=&Card(E)-Card(A) \\\\\n",
    "\\end{eqnarray}\n",
    "$$\n",
    "\n",
    "- Le cardinal de la réunion de deux ensembles disjoints est la somme de leurs cardinaux :  \n",
    "-- si $A\\cap B=\\emptyset$, alors $Card(A\\cup B)=Card(A)+Card(B)$  \n",
    "-- Cas général : $Card(A\\cup B)=Card(A)+Card(B)-Card(A\\cap B)$ (dans la somme des cardinaux de $A$ et $B$, les éléments communs sont comptés deux fois)\n",
    "\n",
    "## Dénombrer des données : utiliser des arbres, des tableaux, des schémas\n",
    "\n",
    "### Utiliser un arbre :\n",
    "On utilisera  un arbre ou un schéma à cases uniquement dans le cas où l’expérience aléatoire considérée consiste à choisir successivement (c’est-à-dire à la suite l’un de l’autre) plusieurs éléments dans un ensemble fini donné. C’est-à-dire que l’ordre intervient dans l’expérience."
   ]
  },
  {
   "cell_type": "markdown",
   "metadata": {},
   "source": [
    ">**Exemple** *Au restaurant, vous devez choisir parmi 3 entrées, 2 plats et 4 desserts possibles. Combien de menus différents pouvez-vous constituer  ?*  \n",
    "Si l’on note $E_1$, $E_2$ et $E_3$ les 3 entrées possibles, $P_1$ et $P_2$ les 2 plats et $D_1$, $D_2$, $D_3$ et $D_4$ les 4 desserts, l’arbre des possibilités et le suivant :"
   ]
  },
  {
   "cell_type": "code",
   "execution_count": 4,
   "metadata": {},
   "outputs": [
    {
     "data": {
      "image/png": "[encoded data removed]"
     },
     "metadata": {},
     "output_type": "display_data"
    }
   ],
   "source": [
    "%%tikz --scale 0.8 --size 800,300 -f png\n",
    "\\tikzset{every node/.style={font=\\sffamily,black}}\n",
    "\n",
    "\\node[fill=white] at (-5, 0) (dummy) {};\n",
    "\\node[fill=green] at (1,0) (D111) {$D_1$};\n",
    "\\node[fill=green] at (2,0) (D112) {$D_2$};\n",
    "\\node[fill=green] at (3,0) (D113) {$D_3$};\n",
    "\\node[fill=green] at (4,0) (D114) {$D_4$};\n",
    "\\node[fill=green] at (5,0) (D121) {$D_1$};\n",
    "\\node[fill=green] at (6,0) (D122) {$D_2$};\n",
    "\\node[fill=green] at (7,0) (D123) {$D_3$};\n",
    "\\node[fill=green] at (8,0) (D124) {$D_4$};\n",
    "\\node[fill=green] at (9,0) (D211) {$D_1$};\n",
    "\\node[fill=green] at (10,0) (D212) {$D_2$};\n",
    "\\node[fill=green] at (11,0) (D213) {$D_3$};\n",
    "\\node[fill=green] at (12,0) (D214) {$D_4$};\n",
    "\\node[fill=green] at (13,0) (D221) {$D_1$};\n",
    "\\node[fill=green] at (14,0) (D222) {$D_2$};\n",
    "\\node[fill=green] at (15,0) (D223) {$D_3$};\n",
    "\\node[fill=green] at (16,0) (D224) {$D_4$};\n",
    "\\node[fill=green] at (17,0) (D311) {$D_1$};\n",
    "\\node[fill=green] at (18,0) (D312) {$D_2$};\n",
    "\\node[fill=green] at (19,0) (D313) {$D_3$};\n",
    "\\node[fill=green] at (20,0) (D314) {$D_4$};\n",
    "\\node[fill=green] at (21,0) (D321) {$D_1$};\n",
    "\\node[fill=green] at (22,0) (D322) {$D_2$};\n",
    "\\node[fill=green] at (23,0) (D323) {$D_3$};\n",
    "\\node[fill=green] at (24,0) (D324) {$D_4$};\n",
    "\n",
    "\\node[fill=yellow] at (2.5,2) (P11) {$P_1$};\n",
    "\\node[fill=yellow] at (6.5,2) (P12) {$P_2$};\n",
    "\\node[fill=yellow] at (10.5,2) (P21) {$P_1$};\n",
    "\\node[fill=yellow] at (14.5,2) (P22) {$P_2$};\n",
    "\\node[fill=yellow] at (18.5,2) (P31) {$P_1$};\n",
    "\\node[fill=yellow] at (22.5,2) (P32) {$P_2$};\n",
    "\n",
    "\\node[fill=orange] at (4.5,4) (E1) {$E_1$};\n",
    "\\node[fill=orange] at (12.5,4) (E2) {$E_2$};\n",
    "\\node[fill=orange] at (20.5,4) (E3) {$E_3$};\n",
    "\n",
    "\\draw[->] (E1) -- (P11);\n",
    "\\draw[->] (E1) -- (P12);\n",
    "\\draw[->] (E2) -- (P21);\n",
    "\\draw[->] (E2) -- (P22);\n",
    "\\draw[->] (E3) -- (P31);\n",
    "\\draw[->] (E3) -- (P32);\n",
    "\n",
    "\\draw[->] (P11) -- (D111);\n",
    "\\draw[->] (P11) -- (D112);\n",
    "\\draw[->] (P11) -- (D113);\n",
    "\\draw[->] (P11) -- (D114);\n",
    "\n",
    "\\draw[->] (P12) -- (D121);\n",
    "\\draw[->] (P12) -- (D122);\n",
    "\\draw[->] (P12) -- (D123);\n",
    "\\draw[->] (P12) -- (D124);\n",
    "\n",
    "\\draw[->] (P21) -- (D211);\n",
    "\\draw[->] (P21) -- (D212);\n",
    "\\draw[->] (P21) -- (D213);\n",
    "\\draw[->] (P21) -- (D214);\n",
    "\n",
    "\\draw[->] (P22) -- (D221);\n",
    "\\draw[->] (P22) -- (D222);\n",
    "\\draw[->] (P22) -- (D223);\n",
    "\\draw[->] (P22) -- (D224);\n",
    "\n",
    "\\draw[->] (P31) -- (D311);\n",
    "\\draw[->] (P31) -- (D312);\n",
    "\\draw[->] (P31) -- (D313);\n",
    "\\draw[->] (P31) -- (D314);\n",
    "\n",
    "\\draw[->] (P32) -- (D321);\n",
    "\\draw[->] (P32) -- (D322);\n",
    "\\draw[->] (P32) -- (D323);\n",
    "\\draw[->] (P32) -- (D324);\n"
   ]
  },
  {
   "cell_type": "markdown",
   "metadata": {},
   "source": [
    ">Cet arbre a 24 branches correspondant à 3×2×4=24 menus possibles  \n",
    "Avec un schéma à case on obtient :  \n",
    "\n",
    "<div style=\"margin:auto\" >\n",
    "    <table>\n",
    "        <tr>\n",
    "            <td style=\"border:solid; width: 3cm\"></td>\n",
    "            <td style=\"border:solid; width: 3cm\"></td>\n",
    "            <td style=\"border:solid; width: 3cm\"></td>\n",
    "        </tr>\n",
    "        <tr>\n",
    "            <td style=\"text-align: center\">Entrée</td>\n",
    "            <td style=\"text-align: center\">Plat</td>\n",
    "            <td style=\"text-align: center\">Dessert</td>\n",
    "        </tr>\n",
    "    </table>\n",
    "</div>\n",
    "\n",
    ">Il y a 3 choix pour la première case (car 3 entrées) ; ce choix étant fait, il y a deux choix pour la seconde case (et ceci pour chacun des choix de la première case) ; ces choix étant faits, il y a quatre choix pour la 3e case (car quatre desserts possibles). On a en tout : 3×2×4=24 menus possibles\n",
    "\n",
    "### Utiliser un tableau :\n",
    "On peut utiliser un tableau à double entrée pour dénombrer les résultats possibles d’une expérience donnée uniquement lorsque cette expérience est décomposable en deux actions simples où l’ordre intervient : lancers successifs de deux dés ou de deux pièces de monnaies, tirages successifs de deux jetons numérotés etc. Il n’est bien sûr pas utilisable si plus de deux actions entrent en jeux (lancers de dés)\n",
    "\n",
    ">**Exemple** On lance deux dés équilibrés Quels est le nombre de couples obtenus contenant au moins une face numérotée 6 ?\n",
    "\n",
    "|Dé 1\\\\2|1| 2   | 3 | 4 | 5 | 6 |  \n",
    "|:------- |:---:|:---:|:---:|:---:|:---:|:---:|  \n",
    "|1|1-1 |1-2 |1-3 |1-4 |1-5 |<span class=\"cehjred\">1-6</span> |\n",
    "|2|2-1 |2-2 |2-3 |2-4 |2-5 |<span class=\"cehjred\">2-6</span> |\n",
    "|3|3-1 |3-2 |3-3 |3-4 |3-5 |<span class=\"cehjred\">3-6</span> |\n",
    "|4|4-1 |4-2 |4-3 |4-4 |4-5 |<span class=\"cehjred\">4-6</span> |\n",
    "|5|5-1 |5-2 |5-3 |5-4 |5-5 |<span class=\"cehjred\">5-6</span> |\n",
    "|6|<span class=\"cehjred\">6-1</span> |<span class=\"cehjred\">6-2</span> |<span class=\"cehjred\">6-3</span> |<span class=\"cehjred\">6-4</span> |<span class=\"cehjred\">6-5</span> |<span class=\"cehjred\">6-6</span> |\n",
    "\n",
    ">Il y a donc 36 résultats possibles. \n",
    "\n",
    "## la suite:  ...\n",
    "\n",
    "### ...\n",
    "\n",
    "## Dénombrer sans ordre et sans remise: utiliser les combinaisons  \n",
    "\n",
    "### ...\n",
    "\n",
    "$$C_n^p=\\frac{A_n^p}{p!}=\\frac{n!}{p!(n-p)!}=\\frac{n(n-1)\\cdots(n-p+1)}{p(p-1)\\cdots\\times 2\\times 1}\\ , \\ \\left(0\\le p\\le n\\right)$$\n",
    "\n",
    "### ...\n"
   ]
  },
  {
   "cell_type": "code",
   "execution_count": 5,
   "metadata": {
    "scrolled": false
   },
   "outputs": [
    {
     "data": {
      "application/vnd.jupyter.widget-view+json": {
       "model_id": "a8d8bcf3f22e42bca91456161806cbe0",
       "version_major": 2,
       "version_minor": 0
      },
      "text/html": [
       "<p>Failed to display Jupyter Widget of type <code>Accordion</code>.</p>\n",
       "<p>\n",
       "  If you're reading this message in Jupyter Notebook or JupyterLab, it may mean\n",
       "  that the widgets JavaScript is still loading. If this message persists, it\n",
       "  likely means that the widgets JavaScript library is either not installed or\n",
       "  not enabled. See the <a href=\"https://ipywidgets.readthedocs.io/en/stable/user_install.html\">Jupyter\n",
       "  Widgets Documentation</a> for setup instructions.\n",
       "</p>\n",
       "<p>\n",
       "  If you're reading this message in another notebook frontend (for example, a static\n",
       "  rendering on GitHub or <a href=\"https://nbviewer.jupyter.org/\">NBViewer</a>),\n",
       "  it may mean that your frontend doesn't currently support widgets.\n",
       "</p>\n"
      ],
      "text/plain": [
       "Accordion(children=(Tab(children=(VBox(children=(Button(description='Nouvel Exercice', style=ButtonStyle()), VBox(children=(HTML(value=\"\\n    <div>\\n    <p>Soient $6$ ensembles $E_{1}\\\\cdots E_{6}$. Les cardinaux de chacun de ces ensembles sont les suivants:</p>\\n    <div><ul><li>$|E_{1}| = 6$</li><li>$|E_{2}| = 9$</li><li>$|E_{3}| = 7$</li><li>$|E_{4}| = 8$</li><li>$|E_{5}| = 6$</li><li>$|E_{6}| = 3$</li><ul/></div>\\n    <p>Combien existe-t-il d'ensembles $A$ à $6$ éléments obtenus en sélectionnant chaque élément dans un ensemble $E_i$ distinct ?</p>\\n    </div>\\n    \"), IntText(value=0), HBox(children=(Button(description='Soumettre la proposition', layout=Layout(width='200px'), style=ButtonStyle()), Label(value=''))))))), Label(value='Here some kind of reporting')), _titles={'0': 'Exercices', '1': 'Tableau de bord'}),), selected_index=None, _titles={'0': 'Exercices / problèmes'})"
      ]
     },
     "metadata": {},
     "output_type": "display_data"
    }
   ],
   "source": [
    "exo.newExoPanel (exo.exoClasses[0:2])"
   ]
  },
  {
   "cell_type": "markdown",
   "metadata": {},
   "source": [
    "# La loi binomiale\n",
    ">**Définition** La loi binomiale de paramètres $n$ et $p$, notée $B (n ; p)$ est la loi de probabilité du nombre de succès dans la répétition de $n$ expériences de Bernoulli de paramètre $p$ identiques et indépendantes.\n",
    "Elle est définie par :\n",
    ">\n",
    "$$\n",
    "\\forall k\\in \\{0\\cdots n\\}\\ P(X=k)=C_n^k\\ p^k(1-p)^{(n-k)}\n",
    "$$\n",
    "\n",
    "Etc Etc ...\n"
   ]
  },
  {
   "cell_type": "code",
   "execution_count": 6,
   "metadata": {
    "scrolled": true
   },
   "outputs": [
    {
     "data": {
      "application/vnd.jupyter.widget-view+json": {
       "model_id": "e7ea76ffb1674fe8aa9361f3b03d0639",
       "version_major": 2,
       "version_minor": 0
      },
      "text/html": [
       "<p>Failed to display Jupyter Widget of type <code>Accordion</code>.</p>\n",
       "<p>\n",
       "  If you're reading this message in Jupyter Notebook or JupyterLab, it may mean\n",
       "  that the widgets JavaScript is still loading. If this message persists, it\n",
       "  likely means that the widgets JavaScript library is either not installed or\n",
       "  not enabled. See the <a href=\"https://ipywidgets.readthedocs.io/en/stable/user_install.html\">Jupyter\n",
       "  Widgets Documentation</a> for setup instructions.\n",
       "</p>\n",
       "<p>\n",
       "  If you're reading this message in another notebook frontend (for example, a static\n",
       "  rendering on GitHub or <a href=\"https://nbviewer.jupyter.org/\">NBViewer</a>),\n",
       "  it may mean that your frontend doesn't currently support widgets.\n",
       "</p>\n"
      ],
      "text/plain": [
       "Accordion(children=(Tab(children=(VBox(children=(Button(description='Nouvel Exercice', style=ButtonStyle()), VBox())), Label(value='Here some kind of reporting')), _titles={'0': 'Exercices', '1': 'Tableau de bord'}),), selected_index=None, _titles={'0': 'Exercices / problèmes'})"
      ]
     },
     "metadata": {},
     "output_type": "display_data"
    }
   ],
   "source": [
    "exo.newExoPanel ([cehj.exo.ExoForExospotid])"
   ]
  },
  {
   "cell_type": "markdown",
   "metadata": {},
   "source": [
    "## La loi Beta\n",
    "Les fonctions $\\Gamma$ et $B$ ainsi que la distribution de la loi Beta sont définies ainsi:  \n",
    "\n",
    "$$\n",
    "\\begin{eqnarray}\n",
    "\\Gamma(x) & \\stackrel{def}{=} & \\int_0^\\infty t^{x-1}e^{-t}dt & \\hskip 2cm(1)\\\\\n",
    "& & \\\\\n",
    "B (p,q) & \\stackrel{def}{=} & \\int_0^1 t^{p-1}(1-t)^{q-1}dt & \\hskip 2cm(2)\\\\ \n",
    "& = & \\frac{\\Gamma(p)\\Gamma(q)}{\\Gamma(p+q)} & \\hskip 2cm(2.bis) \\\\\n",
    "& & \\\\\n",
    "\\ Beta (x, p, q) & \\stackrel{def}{=} & \\frac{x^{p-1}(1-x)^{q-1}}{B(p, q)},\\ \\forall x \\in ]0,1[ & \\hskip 2cm(3)\n",
    "\\end{eqnarray}\n",
    "$$\n",
    "\n",
    "\n",
    "La distribution Beta varie ainsi en fonction des paramètres $p$ et $q$ (eqn 3):\n"
   ]
  },
  {
   "cell_type": "code",
   "execution_count": 7,
   "metadata": {},
   "outputs": [
    {
     "data": {
      "application/vnd.jupyter.widget-view+json": {
       "model_id": "c225fbefeefa438f990f321e2a09a4b1",
       "version_major": 2,
       "version_minor": 0
      },
      "text/html": [
       "<p>Failed to display Jupyter Widget of type <code>Figure</code>.</p>\n",
       "<p>\n",
       "  If you're reading this message in Jupyter Notebook or JupyterLab, it may mean\n",
       "  that the widgets JavaScript is still loading. If this message persists, it\n",
       "  likely means that the widgets JavaScript library is either not installed or\n",
       "  not enabled. See the <a href=\"https://ipywidgets.readthedocs.io/en/stable/user_install.html\">Jupyter\n",
       "  Widgets Documentation</a> for setup instructions.\n",
       "</p>\n",
       "<p>\n",
       "  If you're reading this message in another notebook frontend (for example, a static\n",
       "  rendering on GitHub or <a href=\"https://nbviewer.jupyter.org/\">NBViewer</a>),\n",
       "  it may mean that your frontend doesn't currently support widgets.\n",
       "</p>\n"
      ],
      "text/plain": [
       "Figure(axes=[Axis(label='x', scale=LinearScale(max=1.0, min=0.0)), Axis(label='beta.pdf(x)', orientation='vertical', scale=LinearScale(max=15.0, min=0.0), tick_format='0.2f')], fig_margin={'top': 60, 'bottom': 60, 'left': 60, 'right': 60}, layout=Layout(min_width='125px'), marks=[Lines(colors=['red'], interactions={'hover': 'tooltip'}, scales={'x': LinearScale(max=1.0, min=0.0), 'y': LinearScale(max=15.0, min=0.0)}, scales_metadata={'x': {'orientation': 'horizontal', 'dimension': 'x'}, 'y': {'orientation': 'vertical', 'dimension': 'y'}, 'color': {'dimension': 'color'}}, tooltip_style={'opacity': 0.9}, x=array([ 0.        ,  0.00200401,  0.00400802,  0.00601202,  0.00801603,\n",
       "        0.01002004,  0.01202405,  0.01402806,  0.01603206,  0.01803607,\n",
       "        0.02004008,  0.02204409,  0.0240481 ,  0.0260521 ,  0.02805611,\n",
       "        0.03006012,  0.03206413,  0.03406814,  0.03607214,  0.03807615,\n",
       "        0.04008016,  0.04208417,  0.04408818,  0.04609218,  0.04809619,\n",
       "        0.0501002 ,  0.05210421,  0.05410822,  0.05611222,  0.05811623,\n",
       "        0.06012024,  0.06212425,  0.06412826,  0.06613226,  0.06813627,\n",
       "        0.07014028,  0.07214429,  0.0741483 ,  0.0761523 ,  0.07815631,\n",
       "        0.08016032,  0.08216433,  0.08416834,  0.08617234,  0.08817635,\n",
       "        0.09018036,  0.09218437,  0.09418838,  0.09619238,  0.09819639,\n",
       "        0.1002004 ,  0.10220441,  0.10420842,  0.10621242,  0.10821643,\n",
       "        0.11022044,  0.11222445,  0.11422846,  0.11623246,  0.11823647,\n",
       "        0.12024048,  0.12224449,  0.1242485 ,  0.12625251,  0.12825651,\n",
       "        0.13026052,  0.13226453,  0.13426854,  0.13627255,  0.13827655,\n",
       "        0.14028056,  0.14228457,  0.14428858,  0.14629259,  0.14829659,\n",
       "        0.1503006 ,  0.15230461,  0.15430862,  0.15631263,  0.15831663,\n",
       "        0.16032064,  0.16232465,  0.16432866,  0.16633267,  0.16833667,\n",
       "        0.17034068,  0.17234469,  0.1743487 ,  0.17635271,  0.17835671,\n",
       "        0.18036072,  0.18236473,  0.18436874,  0.18637275,  0.18837675,\n",
       "        0.19038076,  0.19238477,  0.19438878,  0.19639279,  0.19839679,\n",
       "        0.2004008 ,  0.20240481,  0.20440882,  0.20641283,  0.20841683,\n",
       "        0.21042084,  0.21242485,  0.21442886,  0.21643287,  0.21843687,\n",
       "        0.22044088,  0.22244489,  0.2244489 ,  0.22645291,  0.22845691,\n",
       "        0.23046092,  0.23246493,  0.23446894,  0.23647295,  0.23847695,\n",
       "        0.24048096,  0.24248497,  0.24448898,  0.24649299,  0.24849699,\n",
       "        0.250501  ,  0.25250501,  0.25450902,  0.25651303,  0.25851703,\n",
       "        0.26052104,  0.26252505,  0.26452906,  0.26653307,  0.26853707,\n",
       "        0.27054108,  0.27254509,  0.2745491 ,  0.27655311,  0.27855711,\n",
       "        0.28056112,  0.28256513,  0.28456914,  0.28657315,  0.28857715,\n",
       "        0.29058116,  0.29258517,  0.29458918,  0.29659319,  0.29859719,\n",
       "        0.3006012 ,  0.30260521,  0.30460922,  0.30661323,  0.30861723,\n",
       "        0.31062124,  0.31262525,  0.31462926,  0.31663327,  0.31863727,\n",
       "        0.32064128,  0.32264529,  0.3246493 ,  0.32665331,  0.32865731,\n",
       "        0.33066132,  0.33266533,  0.33466934,  0.33667335,  0.33867735,\n",
       "        0.34068136,  0.34268537,  0.34468938,  0.34669339,  0.34869739,\n",
       "        0.3507014 ,  0.35270541,  0.35470942,  0.35671343,  0.35871743,\n",
       "        0.36072144,  0.36272545,  0.36472946,  0.36673347,  0.36873747,\n",
       "        0.37074148,  0.37274549,  0.3747495 ,  0.37675351,  0.37875752,\n",
       "        0.38076152,  0.38276553,  0.38476954,  0.38677355,  0.38877756,\n",
       "        0.39078156,  0.39278557,  0.39478958,  0.39679359,  0.3987976 ,\n",
       "        0.4008016 ,  0.40280561,  0.40480962,  0.40681363,  0.40881764,\n",
       "        0.41082164,  0.41282565,  0.41482966,  0.41683367,  0.41883768,\n",
       "        0.42084168,  0.42284569,  0.4248497 ,  0.42685371,  0.42885772,\n",
       "        0.43086172,  0.43286573,  0.43486974,  0.43687375,  0.43887776,\n",
       "        0.44088176,  0.44288577,  0.44488978,  0.44689379,  0.4488978 ,\n",
       "        0.4509018 ,  0.45290581,  0.45490982,  0.45691383,  0.45891784,\n",
       "        0.46092184,  0.46292585,  0.46492986,  0.46693387,  0.46893788,\n",
       "        0.47094188,  0.47294589,  0.4749499 ,  0.47695391,  0.47895792,\n",
       "        0.48096192,  0.48296593,  0.48496994,  0.48697395,  0.48897796,\n",
       "        0.49098196,  0.49298597,  0.49498998,  0.49699399,  0.498998  ,\n",
       "        0.501002  ,  0.50300601,  0.50501002,  0.50701403,  0.50901804,\n",
       "        0.51102204,  0.51302605,  0.51503006,  0.51703407,  0.51903808,\n",
       "        0.52104208,  0.52304609,  0.5250501 ,  0.52705411,  0.52905812,\n",
       "        0.53106212,  0.53306613,  0.53507014,  0.53707415,  0.53907816,\n",
       "        0.54108216,  0.54308617,  0.54509018,  0.54709419,  0.5490982 ,\n",
       "        0.5511022 ,  0.55310621,  0.55511022,  0.55711423,  0.55911824,\n",
       "        0.56112224,  0.56312625,  0.56513026,  0.56713427,  0.56913828,\n",
       "        0.57114228,  0.57314629,  0.5751503 ,  0.57715431,  0.57915832,\n",
       "        0.58116232,  0.58316633,  0.58517034,  0.58717435,  0.58917836,\n",
       "        0.59118236,  0.59318637,  0.59519038,  0.59719439,  0.5991984 ,\n",
       "        0.6012024 ,  0.60320641,  0.60521042,  0.60721443,  0.60921844,\n",
       "        0.61122244,  0.61322645,  0.61523046,  0.61723447,  0.61923848,\n",
       "        0.62124248,  0.62324649,  0.6252505 ,  0.62725451,  0.62925852,\n",
       "        0.63126253,  0.63326653,  0.63527054,  0.63727455,  0.63927856,\n",
       "        0.64128257,  0.64328657,  0.64529058,  0.64729459,  0.6492986 ,\n",
       "        0.65130261,  0.65330661,  0.65531062,  0.65731463,  0.65931864,\n",
       "        0.66132265,  0.66332665,  0.66533066,  0.66733467,  0.66933868,\n",
       "        0.67134269,  0.67334669,  0.6753507 ,  0.67735471,  0.67935872,\n",
       "        0.68136273,  0.68336673,  0.68537074,  0.68737475,  0.68937876,\n",
       "        0.69138277,  0.69338677,  0.69539078,  0.69739479,  0.6993988 ,\n",
       "        0.70140281,  0.70340681,  0.70541082,  0.70741483,  0.70941884,\n",
       "        0.71142285,  0.71342685,  0.71543086,  0.71743487,  0.71943888,\n",
       "        0.72144289,  0.72344689,  0.7254509 ,  0.72745491,  0.72945892,\n",
       "        0.73146293,  0.73346693,  0.73547094,  0.73747495,  0.73947896,\n",
       "        0.74148297,  0.74348697,  0.74549098,  0.74749499,  0.749499  ,\n",
       "        0.75150301,  0.75350701,  0.75551102,  0.75751503,  0.75951904,\n",
       "        0.76152305,  0.76352705,  0.76553106,  0.76753507,  0.76953908,\n",
       "        0.77154309,  0.77354709,  0.7755511 ,  0.77755511,  0.77955912,\n",
       "        0.78156313,  0.78356713,  0.78557114,  0.78757515,  0.78957916,\n",
       "        0.79158317,  0.79358717,  0.79559118,  0.79759519,  0.7995992 ,\n",
       "        0.80160321,  0.80360721,  0.80561122,  0.80761523,  0.80961924,\n",
       "        0.81162325,  0.81362725,  0.81563126,  0.81763527,  0.81963928,\n",
       "        0.82164329,  0.82364729,  0.8256513 ,  0.82765531,  0.82965932,\n",
       "        0.83166333,  0.83366733,  0.83567134,  0.83767535,  0.83967936,\n",
       "        0.84168337,  0.84368737,  0.84569138,  0.84769539,  0.8496994 ,\n",
       "        0.85170341,  0.85370741,  0.85571142,  0.85771543,  0.85971944,\n",
       "        0.86172345,  0.86372745,  0.86573146,  0.86773547,  0.86973948,\n",
       "        0.87174349,  0.87374749,  0.8757515 ,  0.87775551,  0.87975952,\n",
       "        0.88176353,  0.88376754,  0.88577154,  0.88777555,  0.88977956,\n",
       "        0.89178357,  0.89378758,  0.89579158,  0.89779559,  0.8997996 ,\n",
       "        0.90180361,  0.90380762,  0.90581162,  0.90781563,  0.90981964,\n",
       "        0.91182365,  0.91382766,  0.91583166,  0.91783567,  0.91983968,\n",
       "        0.92184369,  0.9238477 ,  0.9258517 ,  0.92785571,  0.92985972,\n",
       "        0.93186373,  0.93386774,  0.93587174,  0.93787575,  0.93987976,\n",
       "        0.94188377,  0.94388778,  0.94589178,  0.94789579,  0.9498998 ,\n",
       "        0.95190381,  0.95390782,  0.95591182,  0.95791583,  0.95991984,\n",
       "        0.96192385,  0.96392786,  0.96593186,  0.96793587,  0.96993988,\n",
       "        0.97194389,  0.9739479 ,  0.9759519 ,  0.97795591,  0.97995992,\n",
       "        0.98196393,  0.98396794,  0.98597194,  0.98797595,  0.98997996,\n",
       "        0.99198397,  0.99398798,  0.99599198,  0.99799599,  1.        ]), y=array([  0.00000000e+00,   1.00798381e-08,   1.59985905e-07,\n",
       "         8.03429750e-07,   2.51881891e-06,   6.09991801e-06,\n",
       "         1.25466812e-05,   2.30562544e-05,   3.90141456e-05,\n",
       "         6.19855619e-05,   9.37069108e-05,   1.36077466e-04,\n",
       "         1.91151193e-04,   2.61128739e-04,   3.48349572e-04,\n",
       "         4.55284293e-04,   5.84527083e-04,   7.38788324e-04,\n",
       "         9.20887357e-04,   1.13374540e-03,   1.38037861e-03,\n",
       "         1.66389130e-03,   1.98746928e-03,   2.35437338e-03,\n",
       "         2.76793310e-03,   3.23154037e-03,   3.74864349e-03,\n",
       "         4.32274120e-03,   4.95737690e-03,   5.65613293e-03,\n",
       "         6.42262513e-03,   7.26049736e-03,   8.17341631e-03,\n",
       "         9.16506629e-03,   1.02391443e-02,   1.13993551e-02,\n",
       "         1.26494066e-02,   1.39930048e-02,   1.54338499e-02,\n",
       "         1.69756315e-02,   1.86220244e-02,   2.03766846e-02,\n",
       "         2.22432450e-02,   2.42253119e-02,   2.63264607e-02,\n",
       "         2.85502326e-02,   3.09001309e-02,   3.33796175e-02,\n",
       "         3.59921095e-02,   3.87409762e-02,   4.16295356e-02,\n",
       "         4.46610516e-02,   4.78387311e-02,   5.11657209e-02,\n",
       "         5.46451054e-02,   5.82799034e-02,   6.20730660e-02,\n",
       "         6.60274743e-02,   7.01459363e-02,   7.44311856e-02,\n",
       "         7.88858786e-02,   8.35125926e-02,   8.83138240e-02,\n",
       "         9.32919862e-02,   9.84494078e-02,   1.03788331e-01,\n",
       "         1.09310911e-01,   1.15019211e-01,   1.20915205e-01,\n",
       "         1.27000775e-01,   1.33277707e-01,   1.39747696e-01,\n",
       "         1.46412336e-01,   1.53273128e-01,   1.60331473e-01,\n",
       "         1.67588674e-01,   1.75045932e-01,   1.82704351e-01,\n",
       "         1.90564930e-01,   1.98628568e-01,   2.06896062e-01,\n",
       "         2.15368105e-01,   2.24045288e-01,   2.32928096e-01,\n",
       "         2.42016912e-01,   2.51312015e-01,   2.60813577e-01,\n",
       "         2.70521670e-01,   2.80436256e-01,   2.90557197e-01,\n",
       "         3.00884250e-01,   3.11417064e-01,   3.22155189e-01,\n",
       "         3.33098067e-01,   3.44245040e-01,   3.55595344e-01,\n",
       "         3.67148114e-01,   3.78902381e-01,   3.90857075e-01,\n",
       "         4.03011026e-01,   4.15362961e-01,   4.27911510e-01,\n",
       "         4.40655199e-01,   4.53592460e-01,   4.66721625e-01,\n",
       "         4.80040930e-01,   4.93548512e-01,   5.07242417e-01,\n",
       "         5.21120594e-01,   5.35180898e-01,   5.49421095e-01,\n",
       "         5.63838857e-01,   5.78431766e-01,   5.93197316e-01,\n",
       "         6.08132912e-01,   6.23235873e-01,   6.38503434e-01,\n",
       "         6.53932743e-01,   6.69520866e-01,   6.85264788e-01,\n",
       "         7.01161415e-01,   7.17207570e-01,   7.33400004e-01,\n",
       "         7.49735387e-01,   7.66210318e-01,   7.82821320e-01,\n",
       "         7.99564847e-01,   8.16437281e-01,   8.33434936e-01,\n",
       "         8.50554060e-01,   8.67790833e-01,   8.85141375e-01,\n",
       "         9.02601740e-01,   9.20167923e-01,   9.37835862e-01,\n",
       "         9.55601435e-01,   9.73460465e-01,   9.91408722e-01,\n",
       "         1.00944192e+00,   1.02755574e+00,   1.04574578e+00,\n",
       "         1.06400763e+00,   1.08233680e+00,   1.10072879e+00,\n",
       "         1.11917903e+00,   1.13768293e+00,   1.15623585e+00,\n",
       "         1.17483311e+00,   1.19347001e+00,   1.21214182e+00,\n",
       "         1.23084376e+00,   1.24957103e+00,   1.26831882e+00,\n",
       "         1.28708226e+00,   1.30585648e+00,   1.32463659e+00,\n",
       "         1.34341768e+00,   1.36219480e+00,   1.38096302e+00,\n",
       "         1.39971736e+00,   1.41845286e+00,   1.43716453e+00,\n",
       "         1.45584737e+00,   1.47449638e+00,   1.49310656e+00,\n",
       "         1.51167290e+00,   1.53019039e+00,   1.54865402e+00,\n",
       "         1.56705878e+00,   1.58539967e+00,   1.60367169e+00,\n",
       "         1.62186985e+00,   1.63998918e+00,   1.65802470e+00,\n",
       "         1.67597147e+00,   1.69382454e+00,   1.71157898e+00,\n",
       "         1.72922990e+00,   1.74677241e+00,   1.76420164e+00,\n",
       "         1.78151276e+00,   1.79870095e+00,   1.81576142e+00,\n",
       "         1.83268942e+00,   1.84948022e+00,   1.86612912e+00,\n",
       "         1.88263146e+00,   1.89898261e+00,   1.91517797e+00,\n",
       "         1.93121300e+00,   1.94708318e+00,   1.96278405e+00,\n",
       "         1.97831116e+00,   1.99366014e+00,   2.00882665e+00,\n",
       "         2.02380640e+00,   2.03859514e+00,   2.05318868e+00,\n",
       "         2.06758288e+00,   2.08177366e+00,   2.09575698e+00,\n",
       "         2.10952886e+00,   2.12308538e+00,   2.13642268e+00,\n",
       "         2.14953697e+00,   2.16242449e+00,   2.17508156e+00,\n",
       "         2.18750459e+00,   2.19969000e+00,   2.21163432e+00,\n",
       "         2.22333413e+00,   2.23478608e+00,   2.24598688e+00,\n",
       "         2.25693333e+00,   2.26762229e+00,   2.27805069e+00,\n",
       "         2.28821554e+00,   2.29811392e+00,   2.30774298e+00,\n",
       "         2.31709996e+00,   2.32618216e+00,   2.33498698e+00,\n",
       "         2.34351188e+00,   2.35175440e+00,   2.35971217e+00,\n",
       "         2.36738291e+00,   2.37476440e+00,   2.38185451e+00,\n",
       "         2.38865119e+00,   2.39515250e+00,   2.40135655e+00,\n",
       "         2.40726156e+00,   2.41286581e+00,   2.41816770e+00,\n",
       "         2.42316568e+00,   2.42785833e+00,   2.43224428e+00,\n",
       "         2.43632226e+00,   2.44009111e+00,   2.44354972e+00,\n",
       "         2.44669710e+00,   2.44953235e+00,   2.45205463e+00,\n",
       "         2.45426323e+00,   2.45615750e+00,   2.45773689e+00,\n",
       "         2.45900096e+00,   2.45994932e+00,   2.46058172e+00,\n",
       "         2.46089797e+00,   2.46089797e+00,   2.46058172e+00,\n",
       "         2.45994932e+00,   2.45900096e+00,   2.45773689e+00,\n",
       "         2.45615750e+00,   2.45426323e+00,   2.45205463e+00,\n",
       "         2.44953235e+00,   2.44669710e+00,   2.44354972e+00,\n",
       "         2.44009111e+00,   2.43632226e+00,   2.43224428e+00,\n",
       "         2.42785833e+00,   2.42316568e+00,   2.41816770e+00,\n",
       "         2.41286581e+00,   2.40726156e+00,   2.40135655e+00,\n",
       "         2.39515250e+00,   2.38865119e+00,   2.38185451e+00,\n",
       "         2.37476440e+00,   2.36738291e+00,   2.35971217e+00,\n",
       "         2.35175440e+00,   2.34351188e+00,   2.33498698e+00,\n",
       "         2.32618216e+00,   2.31709996e+00,   2.30774298e+00,\n",
       "         2.29811392e+00,   2.28821554e+00,   2.27805069e+00,\n",
       "         2.26762229e+00,   2.25693333e+00,   2.24598688e+00,\n",
       "         2.23478608e+00,   2.22333413e+00,   2.21163432e+00,\n",
       "         2.19969000e+00,   2.18750459e+00,   2.17508156e+00,\n",
       "         2.16242449e+00,   2.14953697e+00,   2.13642268e+00,\n",
       "         2.12308538e+00,   2.10952886e+00,   2.09575698e+00,\n",
       "         2.08177366e+00,   2.06758288e+00,   2.05318868e+00,\n",
       "         2.03859514e+00,   2.02380640e+00,   2.00882665e+00,\n",
       "         1.99366014e+00,   1.97831116e+00,   1.96278405e+00,\n",
       "         1.94708318e+00,   1.93121300e+00,   1.91517797e+00,\n",
       "         1.89898261e+00,   1.88263146e+00,   1.86612912e+00,\n",
       "         1.84948022e+00,   1.83268942e+00,   1.81576142e+00,\n",
       "         1.79870095e+00,   1.78151276e+00,   1.76420164e+00,\n",
       "         1.74677241e+00,   1.72922990e+00,   1.71157898e+00,\n",
       "         1.69382454e+00,   1.67597147e+00,   1.65802470e+00,\n",
       "         1.63998918e+00,   1.62186985e+00,   1.60367169e+00,\n",
       "         1.58539967e+00,   1.56705878e+00,   1.54865402e+00,\n",
       "         1.53019039e+00,   1.51167290e+00,   1.49310656e+00,\n",
       "         1.47449638e+00,   1.45584737e+00,   1.43716453e+00,\n",
       "         1.41845286e+00,   1.39971736e+00,   1.38096302e+00,\n",
       "         1.36219480e+00,   1.34341768e+00,   1.32463659e+00,\n",
       "         1.30585648e+00,   1.28708226e+00,   1.26831882e+00,\n",
       "         1.24957103e+00,   1.23084376e+00,   1.21214182e+00,\n",
       "         1.19347001e+00,   1.17483311e+00,   1.15623585e+00,\n",
       "         1.13768293e+00,   1.11917903e+00,   1.10072879e+00,\n",
       "         1.08233680e+00,   1.06400763e+00,   1.04574578e+00,\n",
       "         1.02755574e+00,   1.00944192e+00,   9.91408722e-01,\n",
       "         9.73460465e-01,   9.55601435e-01,   9.37835862e-01,\n",
       "         9.20167923e-01,   9.02601740e-01,   8.85141375e-01,\n",
       "         8.67790833e-01,   8.50554060e-01,   8.33434936e-01,\n",
       "         8.16437281e-01,   7.99564847e-01,   7.82821320e-01,\n",
       "         7.66210318e-01,   7.49735387e-01,   7.33400004e-01,\n",
       "         7.17207570e-01,   7.01161415e-01,   6.85264788e-01,\n",
       "         6.69520866e-01,   6.53932743e-01,   6.38503434e-01,\n",
       "         6.23235873e-01,   6.08132912e-01,   5.93197316e-01,\n",
       "         5.78431766e-01,   5.63838857e-01,   5.49421095e-01,\n",
       "         5.35180898e-01,   5.21120594e-01,   5.07242417e-01,\n",
       "         4.93548512e-01,   4.80040930e-01,   4.66721625e-01,\n",
       "         4.53592460e-01,   4.40655199e-01,   4.27911510e-01,\n",
       "         4.15362961e-01,   4.03011026e-01,   3.90857075e-01,\n",
       "         3.78902381e-01,   3.67148114e-01,   3.55595344e-01,\n",
       "         3.44245040e-01,   3.33098067e-01,   3.22155189e-01,\n",
       "         3.11417064e-01,   3.00884250e-01,   2.90557197e-01,\n",
       "         2.80436256e-01,   2.70521670e-01,   2.60813577e-01,\n",
       "         2.51312015e-01,   2.42016912e-01,   2.32928096e-01,\n",
       "         2.24045288e-01,   2.15368105e-01,   2.06896062e-01,\n",
       "         1.98628568e-01,   1.90564930e-01,   1.82704351e-01,\n",
       "         1.75045932e-01,   1.67588674e-01,   1.60331473e-01,\n",
       "         1.53273128e-01,   1.46412336e-01,   1.39747696e-01,\n",
       "         1.33277707e-01,   1.27000775e-01,   1.20915205e-01,\n",
       "         1.15019211e-01,   1.09310911e-01,   1.03788331e-01,\n",
       "         9.84494078e-02,   9.32919862e-02,   8.83138240e-02,\n",
       "         8.35125926e-02,   7.88858786e-02,   7.44311856e-02,\n",
       "         7.01459363e-02,   6.60274743e-02,   6.20730660e-02,\n",
       "         5.82799034e-02,   5.46451054e-02,   5.11657209e-02,\n",
       "         4.78387311e-02,   4.46610516e-02,   4.16295356e-02,\n",
       "         3.87409762e-02,   3.59921095e-02,   3.33796175e-02,\n",
       "         3.09001309e-02,   2.85502326e-02,   2.63264607e-02,\n",
       "         2.42253119e-02,   2.22432450e-02,   2.03766846e-02,\n",
       "         1.86220244e-02,   1.69756315e-02,   1.54338499e-02,\n",
       "         1.39930048e-02,   1.26494066e-02,   1.13993551e-02,\n",
       "         1.02391443e-02,   9.16506629e-03,   8.17341631e-03,\n",
       "         7.26049736e-03,   6.42262513e-03,   5.65613293e-03,\n",
       "         4.95737690e-03,   4.32274120e-03,   3.74864349e-03,\n",
       "         3.23154037e-03,   2.76793310e-03,   2.35437338e-03,\n",
       "         1.98746928e-03,   1.66389130e-03,   1.38037861e-03,\n",
       "         1.13374540e-03,   9.20887357e-04,   7.38788324e-04,\n",
       "         5.84527083e-04,   4.55284293e-04,   3.48349572e-04,\n",
       "         2.61128739e-04,   1.91151193e-04,   1.36077466e-04,\n",
       "         9.37069108e-05,   6.19855619e-05,   3.90141456e-05,\n",
       "         2.30562544e-05,   1.25466812e-05,   6.09991801e-06,\n",
       "         2.51881891e-06,   8.03429750e-07,   1.59985905e-07,\n",
       "         1.00798381e-08,   0.00000000e+00]))], scale_x=LinearScale(allow_padding=False, max=1.0, min=0.0), scale_y=LinearScale(allow_padding=False, max=1.0, min=0.0))"
      ]
     },
     "metadata": {},
     "output_type": "display_data"
    },
    {
     "data": {
      "application/vnd.jupyter.widget-view+json": {
       "model_id": "cb9e506ed683446eb942aacfb0c62b88",
       "version_major": 2,
       "version_minor": 0
      },
      "text/html": [
       "<p>Failed to display Jupyter Widget of type <code>interactive</code>.</p>\n",
       "<p>\n",
       "  If you're reading this message in Jupyter Notebook or JupyterLab, it may mean\n",
       "  that the widgets JavaScript is still loading. If this message persists, it\n",
       "  likely means that the widgets JavaScript library is either not installed or\n",
       "  not enabled. See the <a href=\"https://ipywidgets.readthedocs.io/en/stable/user_install.html\">Jupyter\n",
       "  Widgets Documentation</a> for setup instructions.\n",
       "</p>\n",
       "<p>\n",
       "  If you're reading this message in another notebook frontend (for example, a static\n",
       "  rendering on GitHub or <a href=\"https://nbviewer.jupyter.org/\">NBViewer</a>),\n",
       "  it may mean that your frontend doesn't currently support widgets.\n",
       "</p>\n"
      ],
      "text/plain": [
       "interactive(children=(FloatSlider(value=5.0, description='new_p', min=0.01), Output()), _dom_classes=('widget-interact',))"
      ]
     },
     "metadata": {},
     "output_type": "display_data"
    },
    {
     "data": {
      "application/vnd.jupyter.widget-view+json": {
       "model_id": "a01ca1dfae47403b93ced53b0bd92bc1",
       "version_major": 2,
       "version_minor": 0
      },
      "text/html": [
       "<p>Failed to display Jupyter Widget of type <code>interactive</code>.</p>\n",
       "<p>\n",
       "  If you're reading this message in Jupyter Notebook or JupyterLab, it may mean\n",
       "  that the widgets JavaScript is still loading. If this message persists, it\n",
       "  likely means that the widgets JavaScript library is either not installed or\n",
       "  not enabled. See the <a href=\"https://ipywidgets.readthedocs.io/en/stable/user_install.html\">Jupyter\n",
       "  Widgets Documentation</a> for setup instructions.\n",
       "</p>\n",
       "<p>\n",
       "  If you're reading this message in another notebook frontend (for example, a static\n",
       "  rendering on GitHub or <a href=\"https://nbviewer.jupyter.org/\">NBViewer</a>),\n",
       "  it may mean that your frontend doesn't currently support widgets.\n",
       "</p>\n"
      ],
      "text/plain": [
       "interactive(children=(FloatSlider(value=5.0, description='new_q', min=0.01), Output()), _dom_classes=('widget-interact',))"
      ]
     },
     "metadata": {},
     "output_type": "display_data"
    }
   ],
   "source": [
    "BetaSimulation(5,5).display()"
   ]
  },
  {
   "cell_type": "markdown",
   "metadata": {},
   "source": [
    "Dans le cadre bayesien où la loi Beta exprime la distribution à priori du paramètre $p$ d'une distribution de Bernoulli, la loi Beta et la loi binomiale sont dites *conjuguées* l'une de l'autre. \n",
    "\n",
    "etc etc\n",
    "\n"
   ]
  },
  {
   "cell_type": "markdown",
   "metadata": {},
   "source": [
    "<img src=\"https://castor:9400/assets/images/favicon.png\" />"
   ]
  },
  {
   "cell_type": "code",
   "execution_count": 8,
   "metadata": {},
   "outputs": [],
   "source": [
    "import bqplot as bq\n",
    "from IPython.display import display\n",
    "import ipywidgets.widgets as widgets\n",
    "from ipywidgets import Layout, Button"
   ]
  },
  {
   "cell_type": "code",
   "execution_count": 9,
   "metadata": {},
   "outputs": [],
   "source": [
    "class Test:\n",
    "    def __init__(self):\n",
    "        sc_x = bq.LinearScale (min=0.0, max=5.0)\n",
    "        axis_x = bq.Axis (scale=sc_x, grid_lines='solid', label='foo', color=\"black\")\n",
    "        sc_y = bq.LinearScale (min=-3.0, max=3.0)\n",
    "        axis_y = bq.Axis (scale=sc_y, orientation='vertical', grid_lines='solid', tick_format='0.2f', label='bar')\n",
    "        xs = [0]\n",
    "        ys = [0]\n",
    "        artist = bq.Lines (x=xs, y=ys, scales={'x': sc_x, 'y': sc_y}, colors=['red'])\n",
    "        fig = bq.Figure (marks=[artist], axes=[axis_x, axis_y])\n",
    "        self.fig = fig\n",
    "        self.artist = artist\n",
    "        self.xs = xs\n",
    "        self.ys = ys\n",
    "        self.sc_x = sc_x"
   ]
  },
  {
   "cell_type": "code",
   "execution_count": 10,
   "metadata": {
    "scrolled": false
   },
   "outputs": [],
   "source": [
    "t = Test ()"
   ]
  },
  {
   "cell_type": "code",
   "execution_count": 11,
   "metadata": {
    "scrolled": false
   },
   "outputs": [
    {
     "data": {
      "application/vnd.jupyter.widget-view+json": {
       "model_id": "e20a7380b8c8423db3a937b2ec85622b",
       "version_major": 2,
       "version_minor": 0
      },
      "text/html": [
       "<p>Failed to display Jupyter Widget of type <code>Button</code>.</p>\n",
       "<p>\n",
       "  If you're reading this message in Jupyter Notebook or JupyterLab, it may mean\n",
       "  that the widgets JavaScript is still loading. If this message persists, it\n",
       "  likely means that the widgets JavaScript library is either not installed or\n",
       "  not enabled. See the <a href=\"https://ipywidgets.readthedocs.io/en/stable/user_install.html\">Jupyter\n",
       "  Widgets Documentation</a> for setup instructions.\n",
       "</p>\n",
       "<p>\n",
       "  If you're reading this message in another notebook frontend (for example, a static\n",
       "  rendering on GitHub or <a href=\"https://nbviewer.jupyter.org/\">NBViewer</a>),\n",
       "  it may mean that your frontend doesn't currently support widgets.\n",
       "</p>\n"
      ],
      "text/plain": [
       "Button(description='newExerciseButtonLabel', style=ButtonStyle())"
      ]
     },
     "metadata": {},
     "output_type": "display_data"
    },
    {
     "data": {
      "application/vnd.jupyter.widget-view+json": {
       "model_id": "361af629f04040ef83ce77d3c5801994",
       "version_major": 2,
       "version_minor": 0
      },
      "text/html": [
       "<p>Failed to display Jupyter Widget of type <code>Figure</code>.</p>\n",
       "<p>\n",
       "  If you're reading this message in Jupyter Notebook or JupyterLab, it may mean\n",
       "  that the widgets JavaScript is still loading. If this message persists, it\n",
       "  likely means that the widgets JavaScript library is either not installed or\n",
       "  not enabled. See the <a href=\"https://ipywidgets.readthedocs.io/en/stable/user_install.html\">Jupyter\n",
       "  Widgets Documentation</a> for setup instructions.\n",
       "</p>\n",
       "<p>\n",
       "  If you're reading this message in another notebook frontend (for example, a static\n",
       "  rendering on GitHub or <a href=\"https://nbviewer.jupyter.org/\">NBViewer</a>),\n",
       "  it may mean that your frontend doesn't currently support widgets.\n",
       "</p>\n"
      ],
      "text/plain": [
       "Figure(axes=[Axis(color='black', label='foo', scale=LinearScale(max=5.0, min=0.0)), Axis(label='bar', orientation='vertical', scale=LinearScale(max=3.0, min=-3.0), tick_format='0.2f')], fig_margin={'top': 60, 'bottom': 60, 'left': 60, 'right': 60}, layout=Layout(min_width='125px'), marks=[Lines(colors=['red'], interactions={'hover': 'tooltip'}, scales={'x': LinearScale(max=5.0, min=0.0), 'y': LinearScale(max=3.0, min=-3.0)}, scales_metadata={'x': {'orientation': 'horizontal', 'dimension': 'x'}, 'y': {'orientation': 'vertical', 'dimension': 'y'}, 'color': {'dimension': 'color'}}, tooltip_style={'opacity': 0.9}, x=array([0]), y=array([0]))], scale_x=LinearScale(allow_padding=False, max=1.0, min=0.0), scale_y=LinearScale(allow_padding=False, max=1.0, min=0.0))"
      ]
     },
     "metadata": {},
     "output_type": "display_data"
    }
   ],
   "source": [
    "def oncb (e):\n",
    "    t.xs.append (max(t.xs)+1)\n",
    "    if max(t.xs) > t.sc_x.max:\n",
    "        t.sc_x.max = t.sc_x.max + 5\n",
    "    if t.ys[-1] == 0:\n",
    "        t.ys.append (1)\n",
    "    else:\n",
    "        t.ys.append (0)\n",
    "    t.artist.x = t.xs\n",
    "    t.artist.y = t.ys\n",
    "\n",
    "btn = widgets.Button (description=\"newExerciseButtonLabel\")\n",
    "btn.on_click (oncb)\n",
    "display (btn)\n",
    "display (t.fig)"
   ]
  },
  {
   "cell_type": "code",
   "execution_count": 12,
   "metadata": {},
   "outputs": [],
   "source": [
    "%matplotlib inline\n",
    "import matplotlib\n",
    "import matplotlib.pyplot as plt\n",
    "plt.show (t.fig)"
   ]
  },
  {
   "cell_type": "code",
   "execution_count": 13,
   "metadata": {},
   "outputs": [],
   "source": [
    "import numpy as np\n",
    "import scipy.stats as stats\n",
    "\n",
    "class Beta:\n",
    "    @staticmethod\n",
    "    def create_series (p, q, ncut):\n",
    "        if p < 1 or q < 1:\n",
    "            lower = 0.001\n",
    "            upper = 0.999\n",
    "        else:\n",
    "            lower = 0.0\n",
    "            upper = 1.0\n",
    "\n",
    "        xs = np.linspace (lower, upper, ncut)\n",
    "        ys = [stats.beta.pdf (x, p, q) for x in xs]\n",
    "        return xs, ys\n",
    "\n",
    "    def __init__(this, p, q, ncut=500):\n",
    "        this.p, this.q, this.ncut = p, q, ncut\n",
    "        xs, ys = this.create_series (p, q, ncut)\n",
    "        x_scale = bq.LinearScale (min=0.0, max=1.0)\n",
    "        y_scale = bq.LinearScale (min=0.0, max=15.0)\n",
    "        xax = bq.Axis (scale=x_scale, label='x', grid_lines='solid')\n",
    "        yax = bq.Axis (scale=y_scale, label='beta.pdf(x)', grid_lines='solid', orientation='vertical', tick_format='0.2f')\n",
    "        this.line = bq.Lines (x=xs, y=ys, scales={'x':x_scale, 'y':y_scale}, colors=['red'])\n",
    "        this.fig = bq.Figure (marks=[this.line], axes=[xax, yax])\n",
    "\n",
    "    def display (this):\n",
    "        display (this.fig)\n"
   ]
  },
  {
   "cell_type": "code",
   "execution_count": 14,
   "metadata": {},
   "outputs": [],
   "source": [
    "b = Beta (0.5, 0.5)"
   ]
  },
  {
   "cell_type": "code",
   "execution_count": 15,
   "metadata": {},
   "outputs": [
    {
     "data": {
      "application/vnd.jupyter.widget-view+json": {
       "model_id": "cf078794cdbe41b7a753eb41b05bb034",
       "version_major": 2,
       "version_minor": 0
      },
      "text/html": [
       "<p>Failed to display Jupyter Widget of type <code>Figure</code>.</p>\n",
       "<p>\n",
       "  If you're reading this message in Jupyter Notebook or JupyterLab, it may mean\n",
       "  that the widgets JavaScript is still loading. If this message persists, it\n",
       "  likely means that the widgets JavaScript library is either not installed or\n",
       "  not enabled. See the <a href=\"https://ipywidgets.readthedocs.io/en/stable/user_install.html\">Jupyter\n",
       "  Widgets Documentation</a> for setup instructions.\n",
       "</p>\n",
       "<p>\n",
       "  If you're reading this message in another notebook frontend (for example, a static\n",
       "  rendering on GitHub or <a href=\"https://nbviewer.jupyter.org/\">NBViewer</a>),\n",
       "  it may mean that your frontend doesn't currently support widgets.\n",
       "</p>\n"
      ],
      "text/plain": [
       "Figure(axes=[Axis(label='x', scale=LinearScale(max=1.0, min=0.0)), Axis(label='beta.pdf(x)', orientation='vertical', scale=LinearScale(max=15.0, min=0.0), tick_format='0.2f')], fig_margin={'top': 60, 'bottom': 60, 'left': 60, 'right': 60}, layout=Layout(min_width='125px'), marks=[Lines(colors=['red'], interactions={'hover': 'tooltip'}, scales={'x': LinearScale(max=1.0, min=0.0), 'y': LinearScale(max=15.0, min=0.0)}, scales_metadata={'x': {'orientation': 'horizontal', 'dimension': 'x'}, 'y': {'orientation': 'vertical', 'dimension': 'y'}, 'color': {'dimension': 'color'}}, tooltip_style={'opacity': 0.9}, x=array([ 0.001,  0.003,  0.005,  0.007,  0.009,  0.011,  0.013,  0.015,\n",
       "        0.017,  0.019,  0.021,  0.023,  0.025,  0.027,  0.029,  0.031,\n",
       "        0.033,  0.035,  0.037,  0.039,  0.041,  0.043,  0.045,  0.047,\n",
       "        0.049,  0.051,  0.053,  0.055,  0.057,  0.059,  0.061,  0.063,\n",
       "        0.065,  0.067,  0.069,  0.071,  0.073,  0.075,  0.077,  0.079,\n",
       "        0.081,  0.083,  0.085,  0.087,  0.089,  0.091,  0.093,  0.095,\n",
       "        0.097,  0.099,  0.101,  0.103,  0.105,  0.107,  0.109,  0.111,\n",
       "        0.113,  0.115,  0.117,  0.119,  0.121,  0.123,  0.125,  0.127,\n",
       "        0.129,  0.131,  0.133,  0.135,  0.137,  0.139,  0.141,  0.143,\n",
       "        0.145,  0.147,  0.149,  0.151,  0.153,  0.155,  0.157,  0.159,\n",
       "        0.161,  0.163,  0.165,  0.167,  0.169,  0.171,  0.173,  0.175,\n",
       "        0.177,  0.179,  0.181,  0.183,  0.185,  0.187,  0.189,  0.191,\n",
       "        0.193,  0.195,  0.197,  0.199,  0.201,  0.203,  0.205,  0.207,\n",
       "        0.209,  0.211,  0.213,  0.215,  0.217,  0.219,  0.221,  0.223,\n",
       "        0.225,  0.227,  0.229,  0.231,  0.233,  0.235,  0.237,  0.239,\n",
       "        0.241,  0.243,  0.245,  0.247,  0.249,  0.251,  0.253,  0.255,\n",
       "        0.257,  0.259,  0.261,  0.263,  0.265,  0.267,  0.269,  0.271,\n",
       "        0.273,  0.275,  0.277,  0.279,  0.281,  0.283,  0.285,  0.287,\n",
       "        0.289,  0.291,  0.293,  0.295,  0.297,  0.299,  0.301,  0.303,\n",
       "        0.305,  0.307,  0.309,  0.311,  0.313,  0.315,  0.317,  0.319,\n",
       "        0.321,  0.323,  0.325,  0.327,  0.329,  0.331,  0.333,  0.335,\n",
       "        0.337,  0.339,  0.341,  0.343,  0.345,  0.347,  0.349,  0.351,\n",
       "        0.353,  0.355,  0.357,  0.359,  0.361,  0.363,  0.365,  0.367,\n",
       "        0.369,  0.371,  0.373,  0.375,  0.377,  0.379,  0.381,  0.383,\n",
       "        0.385,  0.387,  0.389,  0.391,  0.393,  0.395,  0.397,  0.399,\n",
       "        0.401,  0.403,  0.405,  0.407,  0.409,  0.411,  0.413,  0.415,\n",
       "        0.417,  0.419,  0.421,  0.423,  0.425,  0.427,  0.429,  0.431,\n",
       "        0.433,  0.435,  0.437,  0.439,  0.441,  0.443,  0.445,  0.447,\n",
       "        0.449,  0.451,  0.453,  0.455,  0.457,  0.459,  0.461,  0.463,\n",
       "        0.465,  0.467,  0.469,  0.471,  0.473,  0.475,  0.477,  0.479,\n",
       "        0.481,  0.483,  0.485,  0.487,  0.489,  0.491,  0.493,  0.495,\n",
       "        0.497,  0.499,  0.501,  0.503,  0.505,  0.507,  0.509,  0.511,\n",
       "        0.513,  0.515,  0.517,  0.519,  0.521,  0.523,  0.525,  0.527,\n",
       "        0.529,  0.531,  0.533,  0.535,  0.537,  0.539,  0.541,  0.543,\n",
       "        0.545,  0.547,  0.549,  0.551,  0.553,  0.555,  0.557,  0.559,\n",
       "        0.561,  0.563,  0.565,  0.567,  0.569,  0.571,  0.573,  0.575,\n",
       "        0.577,  0.579,  0.581,  0.583,  0.585,  0.587,  0.589,  0.591,\n",
       "        0.593,  0.595,  0.597,  0.599,  0.601,  0.603,  0.605,  0.607,\n",
       "        0.609,  0.611,  0.613,  0.615,  0.617,  0.619,  0.621,  0.623,\n",
       "        0.625,  0.627,  0.629,  0.631,  0.633,  0.635,  0.637,  0.639,\n",
       "        0.641,  0.643,  0.645,  0.647,  0.649,  0.651,  0.653,  0.655,\n",
       "        0.657,  0.659,  0.661,  0.663,  0.665,  0.667,  0.669,  0.671,\n",
       "        0.673,  0.675,  0.677,  0.679,  0.681,  0.683,  0.685,  0.687,\n",
       "        0.689,  0.691,  0.693,  0.695,  0.697,  0.699,  0.701,  0.703,\n",
       "        0.705,  0.707,  0.709,  0.711,  0.713,  0.715,  0.717,  0.719,\n",
       "        0.721,  0.723,  0.725,  0.727,  0.729,  0.731,  0.733,  0.735,\n",
       "        0.737,  0.739,  0.741,  0.743,  0.745,  0.747,  0.749,  0.751,\n",
       "        0.753,  0.755,  0.757,  0.759,  0.761,  0.763,  0.765,  0.767,\n",
       "        0.769,  0.771,  0.773,  0.775,  0.777,  0.779,  0.781,  0.783,\n",
       "        0.785,  0.787,  0.789,  0.791,  0.793,  0.795,  0.797,  0.799,\n",
       "        0.801,  0.803,  0.805,  0.807,  0.809,  0.811,  0.813,  0.815,\n",
       "        0.817,  0.819,  0.821,  0.823,  0.825,  0.827,  0.829,  0.831,\n",
       "        0.833,  0.835,  0.837,  0.839,  0.841,  0.843,  0.845,  0.847,\n",
       "        0.849,  0.851,  0.853,  0.855,  0.857,  0.859,  0.861,  0.863,\n",
       "        0.865,  0.867,  0.869,  0.871,  0.873,  0.875,  0.877,  0.879,\n",
       "        0.881,  0.883,  0.885,  0.887,  0.889,  0.891,  0.893,  0.895,\n",
       "        0.897,  0.899,  0.901,  0.903,  0.905,  0.907,  0.909,  0.911,\n",
       "        0.913,  0.915,  0.917,  0.919,  0.921,  0.923,  0.925,  0.927,\n",
       "        0.929,  0.931,  0.933,  0.935,  0.937,  0.939,  0.941,  0.943,\n",
       "        0.945,  0.947,  0.949,  0.951,  0.953,  0.955,  0.957,  0.959,\n",
       "        0.961,  0.963,  0.965,  0.967,  0.969,  0.971,  0.973,  0.975,\n",
       "        0.977,  0.979,  0.981,  0.983,  0.985,  0.987,  0.989,  0.991,\n",
       "        0.993,  0.995,  0.997,  0.999]), y=array([ 10.07087912,   5.82025377,   4.51287791,   3.817917  ,\n",
       "         3.37048226,   3.05179698,   2.81008771,   2.61870382,\n",
       "         2.46234503,   2.33151827,   2.21998037,   2.12343478,\n",
       "         2.03881498,   1.96386588,   1.89688723,   1.8365696 ,\n",
       "         1.78188602,   1.73201819,   1.68630498,   1.64420563,\n",
       "         1.60527298,   1.56913363,   1.535473  ,   1.50402394,\n",
       "         1.4745579 ,   1.44687807,   1.42081392,   1.39621686,\n",
       "         1.37295674,   1.350919  ,   1.33000237,   1.31011692,\n",
       "         1.29118254,   1.27312751,   1.25588751,   1.23940458,\n",
       "         1.22362638,   1.20850549,   1.19399887,   1.18006727,\n",
       "         1.16667492,   1.15378905,   1.14137963,   1.12941906,\n",
       "         1.11788193,   1.1067448 ,   1.09598601,   1.0855855 ,\n",
       "         1.07552469,   1.0657863 ,   1.05635428,   1.04721365,\n",
       "         1.03835046,   1.02975168,   1.02140511,   1.01329933,\n",
       "         1.00542365,   0.997768  ,   0.99032295,   0.98307962,\n",
       "         0.97602964,   0.96916512,   0.96247863,   0.95596314,\n",
       "         0.949612  ,   0.94341894,   0.937378  ,   0.93148355,\n",
       "         0.92573023,   0.92011297,   0.91462694,   0.90926756,\n",
       "         0.90403047,   0.89891152,   0.89390674,   0.88901238,\n",
       "         0.88422483,   0.87954067,   0.8749566 ,   0.87046952,\n",
       "         0.86607641,   0.86177441,   0.85756079,   0.85343292,\n",
       "         0.84938828,   0.84542446,   0.84153914,   0.83773012,\n",
       "         0.83399525,   0.83033249,   0.82673988,   0.82321553,\n",
       "         0.81975761,   0.81636439,   0.81303417,   0.80976534,\n",
       "         0.80655633,   0.80340565,   0.80031184,   0.7972735 ,\n",
       "         0.79428929,   0.79135791,   0.78847809,   0.78564864,\n",
       "         0.78286836,   0.78013614,   0.77745088,   0.77481152,\n",
       "         0.77221704,   0.76966644,   0.76715878,   0.76469313,\n",
       "         0.76226858,   0.75988427,   0.75753935,   0.75523302,\n",
       "         0.75296447,   0.75073295,   0.74853771,   0.74637803,\n",
       "         0.74425321,   0.74216258,   0.74010546,   0.73808123,\n",
       "         0.73608927,   0.73412896,   0.73219973,   0.73030101,\n",
       "         0.72843224,   0.72659289,   0.72478243,   0.72300035,\n",
       "         0.72124617,   0.7195194 ,   0.71781958,   0.71614624,\n",
       "         0.71449896,   0.71287729,   0.71128081,   0.70970913,\n",
       "         0.70816184,   0.70663856,   0.7051389 ,   0.70366251,\n",
       "         0.70220902,   0.70077809,   0.69936937,   0.69798254,\n",
       "         0.69661728,   0.69527326,   0.69395018,   0.69264774,\n",
       "         0.69136566,   0.69010365,   0.68886142,   0.68763872,\n",
       "         0.68643527,   0.68525082,   0.68408512,   0.68293792,\n",
       "         0.68180899,   0.68069809,   0.67960499,   0.67852948,\n",
       "         0.67747133,   0.67643033,   0.67540628,   0.67439897,\n",
       "         0.67340822,   0.67243382,   0.67147559,   0.67053335,\n",
       "         0.66960691,   0.66869611,   0.66780078,   0.66692074,\n",
       "         0.66605583,   0.6652059 ,   0.66437079,   0.66355036,\n",
       "         0.66274445,   0.66195291,   0.66117562,   0.66041243,\n",
       "         0.65966321,   0.65892783,   0.65820616,   0.65749807,\n",
       "         0.65680346,   0.65612218,   0.65545415,   0.65479923,\n",
       "         0.65415732,   0.65352831,   0.65291211,   0.6523086 ,\n",
       "         0.65171769,   0.65113928,   0.65057327,   0.65001959,\n",
       "         0.64947813,   0.64894881,   0.64843154,   0.64792625,\n",
       "         0.64743285,   0.64695127,   0.64648142,   0.64602325,\n",
       "         0.64557666,   0.6451416 ,   0.644718  ,   0.64430579,\n",
       "         0.64390491,   0.6435153 ,   0.6431369 ,   0.64276965,\n",
       "         0.64241349,   0.64206837,   0.64173424,   0.64141105,\n",
       "         0.64109875,   0.64079729,   0.64050663,   0.64022673,\n",
       "         0.63995754,   0.63969902,   0.63945114,   0.63921385,\n",
       "         0.63898713,   0.63877094,   0.63856525,   0.63837003,\n",
       "         0.63818525,   0.63801088,   0.63784689,   0.63769328,\n",
       "         0.63755   ,   0.63741704,   0.63729439,   0.63718201,\n",
       "         0.63707991,   0.63698806,   0.63690644,   0.63683506,\n",
       "         0.63677389,   0.63672293,   0.63668217,   0.63665161,\n",
       "         0.63663123,   0.63662105,   0.63662105,   0.63663123,\n",
       "         0.63665161,   0.63668217,   0.63672293,   0.63677389,\n",
       "         0.63683506,   0.63690644,   0.63698806,   0.63707991,\n",
       "         0.63718201,   0.63729439,   0.63741704,   0.63755   ,\n",
       "         0.63769328,   0.63784689,   0.63801088,   0.63818525,\n",
       "         0.63837003,   0.63856525,   0.63877094,   0.63898713,\n",
       "         0.63921385,   0.63945114,   0.63969902,   0.63995754,\n",
       "         0.64022673,   0.64050663,   0.64079729,   0.64109875,\n",
       "         0.64141105,   0.64173424,   0.64206837,   0.64241349,\n",
       "         0.64276965,   0.6431369 ,   0.6435153 ,   0.64390491,\n",
       "         0.64430579,   0.644718  ,   0.6451416 ,   0.64557666,\n",
       "         0.64602325,   0.64648142,   0.64695127,   0.64743285,\n",
       "         0.64792625,   0.64843154,   0.64894881,   0.64947813,\n",
       "         0.65001959,   0.65057327,   0.65113928,   0.65171769,\n",
       "         0.6523086 ,   0.65291211,   0.65352831,   0.65415732,\n",
       "         0.65479923,   0.65545415,   0.65612218,   0.65680346,\n",
       "         0.65749807,   0.65820616,   0.65892783,   0.65966321,\n",
       "         0.66041243,   0.66117562,   0.66195291,   0.66274445,\n",
       "         0.66355036,   0.66437079,   0.6652059 ,   0.66605583,\n",
       "         0.66692074,   0.66780078,   0.66869611,   0.66960691,\n",
       "         0.67053335,   0.67147559,   0.67243382,   0.67340822,\n",
       "         0.67439897,   0.67540628,   0.67643033,   0.67747133,\n",
       "         0.67852948,   0.67960499,   0.68069809,   0.68180899,\n",
       "         0.68293792,   0.68408512,   0.68525082,   0.68643527,\n",
       "         0.68763872,   0.68886142,   0.69010365,   0.69136566,\n",
       "         0.69264774,   0.69395018,   0.69527326,   0.69661728,\n",
       "         0.69798254,   0.69936937,   0.70077809,   0.70220902,\n",
       "         0.70366251,   0.7051389 ,   0.70663856,   0.70816184,\n",
       "         0.70970913,   0.71128081,   0.71287729,   0.71449896,\n",
       "         0.71614624,   0.71781958,   0.7195194 ,   0.72124617,\n",
       "         0.72300035,   0.72478243,   0.72659289,   0.72843224,\n",
       "         0.73030101,   0.73219973,   0.73412896,   0.73608927,\n",
       "         0.73808123,   0.74010546,   0.74216258,   0.74425321,\n",
       "         0.74637803,   0.74853771,   0.75073295,   0.75296447,\n",
       "         0.75523302,   0.75753935,   0.75988427,   0.76226858,\n",
       "         0.76469313,   0.76715878,   0.76966644,   0.77221704,\n",
       "         0.77481152,   0.77745088,   0.78013614,   0.78286836,\n",
       "         0.78564864,   0.78847809,   0.79135791,   0.79428929,\n",
       "         0.7972735 ,   0.80031184,   0.80340565,   0.80655633,\n",
       "         0.80976534,   0.81303417,   0.81636439,   0.81975761,\n",
       "         0.82321553,   0.82673988,   0.83033249,   0.83399525,\n",
       "         0.83773012,   0.84153914,   0.84542446,   0.84938828,\n",
       "         0.85343292,   0.85756079,   0.86177441,   0.86607641,\n",
       "         0.87046952,   0.8749566 ,   0.87954067,   0.88422483,\n",
       "         0.88901238,   0.89390674,   0.89891152,   0.90403047,\n",
       "         0.90926756,   0.91462694,   0.92011297,   0.92573023,\n",
       "         0.93148355,   0.937378  ,   0.94341894,   0.949612  ,\n",
       "         0.95596314,   0.96247863,   0.96916512,   0.97602964,\n",
       "         0.98307962,   0.99032295,   0.997768  ,   1.00542365,\n",
       "         1.01329933,   1.02140511,   1.02975168,   1.03835046,\n",
       "         1.04721365,   1.05635428,   1.0657863 ,   1.07552469,\n",
       "         1.0855855 ,   1.09598601,   1.1067448 ,   1.11788193,\n",
       "         1.12941906,   1.14137963,   1.15378905,   1.16667492,\n",
       "         1.18006727,   1.19399887,   1.20850549,   1.22362638,\n",
       "         1.23940458,   1.25588751,   1.27312751,   1.29118254,\n",
       "         1.31011692,   1.33000237,   1.350919  ,   1.37295674,\n",
       "         1.39621686,   1.42081392,   1.44687807,   1.4745579 ,\n",
       "         1.50402394,   1.535473  ,   1.56913363,   1.60527298,\n",
       "         1.64420563,   1.68630498,   1.73201819,   1.78188602,\n",
       "         1.8365696 ,   1.89688723,   1.96386588,   2.03881498,\n",
       "         2.12343478,   2.21998037,   2.33151827,   2.46234503,\n",
       "         2.61870382,   2.81008771,   3.05179698,   3.37048226,\n",
       "         3.817917  ,   4.51287791,   5.82025377,  10.07087912]))], scale_x=LinearScale(allow_padding=False, max=1.0, min=0.0), scale_y=LinearScale(allow_padding=False, max=1.0, min=0.0))"
      ]
     },
     "metadata": {},
     "output_type": "display_data"
    }
   ],
   "source": [
    "b.display ()"
   ]
  },
  {
   "cell_type": "code",
   "execution_count": 16,
   "metadata": {},
   "outputs": [
    {
     "data": {
      "text/plain": [
       "5"
      ]
     },
     "execution_count": 16,
     "metadata": {},
     "output_type": "execute_result"
    }
   ],
   "source": [
    "(5,6)[0]"
   ]
  },
  {
   "cell_type": "code",
   "execution_count": 17,
   "metadata": {},
   "outputs": [
    {
     "data": {
      "text/plain": [
       "[2, 3, 4]"
      ]
     },
     "execution_count": 17,
     "metadata": {},
     "output_type": "execute_result"
    }
   ],
   "source": [
    "[i for i in range (2,5)]"
   ]
  },
  {
   "cell_type": "code",
   "execution_count": 18,
   "metadata": {},
   "outputs": [
    {
     "data": {
      "text/plain": [
       "0"
      ]
     },
     "execution_count": 18,
     "metadata": {},
     "output_type": "execute_result"
    }
   ],
   "source": [
    "10%10"
   ]
  },
  {
   "cell_type": "code",
   "execution_count": null,
   "metadata": {},
   "outputs": [],
   "source": []
  }
 ],
 "metadata": {
  "kernelspec": {
   "display_name": "Python 3",
   "language": "python",
   "name": "python3"
  },
  "language_info": {
   "codemirror_mode": {
    "name": "ipython",
    "version": 3
   },
   "file_extension": ".py",
   "mimetype": "text/x-python",
   "name": "python",
   "nbconvert_exporter": "python",
   "pygments_lexer": "ipython3",
   "version": "3.6.1"
  }
 },
 "nbformat": 4,
 "nbformat_minor": 2
}
