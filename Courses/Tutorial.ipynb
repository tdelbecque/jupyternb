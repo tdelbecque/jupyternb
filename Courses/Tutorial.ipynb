{
 "cells": [
  {
   "cell_type": "markdown",
   "metadata": {},
   "source": [
    "# Visualisation avec bqplot\n",
    "\n",
    "<b>pqplot</b> est un package développé par Boomberg LP qui permet l'interopérabilité entre un notebook Jupyter et la librairie Javascript d3.js. Il est disponible sous licence Apache. Le site de référence de ce package est:  <a href=\"https://github.com/bloomberg/bqplot\" target=\"_blank\">https://github.com/bloomberg/bqplot</a>  \n",
    "L'installation de cette librairie peut se faire grace à <i>conda</i>:  \n",
    "```bash\n",
    "conda install -c conda-forge bqplot\n",
    "```\n",
    "\n"
   ]
  },
  {
   "cell_type": "code",
   "execution_count": null,
   "metadata": {},
   "outputs": [],
   "source": []
  },
  {
   "cell_type": "code",
   "execution_count": 1,
   "metadata": {},
   "outputs": [],
   "source": [
    "%matplotlib inline\n",
    "from ipywidgets import interact\n",
    "from ipywidgets.widgets import FloatSlider\n",
    "import bqplot as bq\n",
    "from IPython.display import display\n",
    "from bqplot import pyplot as plt\n",
    "import numpy as np\n",
    "import pandas as pd"
   ]
  },
  {
   "cell_type": "markdown",
   "metadata": {},
   "source": [
    "## Comment afficher un <i>linechart</i>\n",
    "voir <a href=\"https://github.com/SylvainCorlay/tutorial/blob/master/notebooks/10-A-bqplot.ipynb\" target=\"_blank\">ici</a>"
   ]
  },
  {
   "cell_type": "code",
   "execution_count": 2,
   "metadata": {},
   "outputs": [
    {
     "data": {
      "text/plain": [
       "array([ 98.38717375,  98.34654656,  97.38999733,  97.99137527,  97.4056752 ])"
      ]
     },
     "execution_count": 2,
     "metadata": {},
     "output_type": "execute_result"
    }
   ],
   "source": [
    "x = np.random.randn (5, 2)\n",
    "y = [[0.5, 0.8],\n",
    "     [0.8,1.0]]\n",
    "z = x.dot(y)\n",
    "price_data = pd.DataFrame (np.cumsum (x.dot (y), axis=0) + 100,\n",
    "              columns=['Security 1', 'Securty 2'],\n",
    "              index=pd.date_range (start='01-01-2007', periods=5)\n",
    "             )\n",
    "price_data['Security 1'].values\n"
   ]
  },
  {
   "cell_type": "code",
   "execution_count": 3,
   "metadata": {},
   "outputs": [
    {
     "data": {
      "application/vnd.jupyter.widget-view+json": {
       "model_id": "ed94abd420f44dde81465a17978a13bd",
       "version_major": 2,
       "version_minor": 0
      },
      "text/html": [
       "<p>Failed to display Jupyter Widget of type <code>Figure</code>.</p>\n",
       "<p>\n",
       "  If you're reading this message in Jupyter Notebook or JupyterLab, it may mean\n",
       "  that the widgets JavaScript is still loading. If this message persists, it\n",
       "  likely means that the widgets JavaScript library is either not installed or\n",
       "  not enabled. See the <a href=\"https://ipywidgets.readthedocs.io/en/stable/user_install.html\">Jupyter\n",
       "  Widgets Documentation</a> for setup instructions.\n",
       "</p>\n",
       "<p>\n",
       "  If you're reading this message in another notebook frontend (for example, a static\n",
       "  rendering on GitHub or <a href=\"https://nbviewer.jupyter.org/\">NBViewer</a>),\n",
       "  it may mean that your frontend doesn't currently support widgets.\n",
       "</p>\n"
      ],
      "text/plain": [
       "Figure(animation_duration=5000, axes=[Axis(label='x', scale=LinearScale()), Axis(label='y', orientation='vertical', scale=LinearScale(), tick_format='0.2f')], fig_margin={'top': 60, 'bottom': 60, 'left': 60, 'right': 60}, layout=Layout(min_width='125px'), marks=[Lines(colors=['red', 'green'], interactions={'hover': 'tooltip'}, scales={'x': LinearScale(), 'y': LinearScale()}, scales_metadata={'x': {'orientation': 'horizontal', 'dimension': 'x'}, 'y': {'orientation': 'vertical', 'dimension': 'y'}, 'color': {'dimension': 'color'}}, tooltip_style={'opacity': 0.9}, x=array([ 0,  1,  2,  3,  4,  5,  6,  7,  8,  9, 10, 11, 12, 13, 14, 15, 16,\n",
       "       17, 18, 19, 20, 21, 22, 23, 24, 25, 26, 27, 28, 29, 30, 31, 32, 33,\n",
       "       34, 35, 36, 37, 38, 39, 40, 41, 42, 43, 44, 45, 46, 47, 48, 49, 50,\n",
       "       51, 52, 53, 54, 55, 56, 57, 58, 59, 60, 61, 62, 63, 64, 65, 66, 67,\n",
       "       68, 69, 70, 71, 72, 73, 74, 75, 76, 77, 78, 79, 80, 81, 82, 83, 84,\n",
       "       85, 86, 87, 88, 89, 90, 91, 92, 93, 94, 95, 96, 97, 98, 99]), y=array([[  0.07680453,   1.25015168,   2.17086833,   2.07816333,\n",
       "          1.40941971,   1.03376391,   1.41215387,   1.3922268 ,\n",
       "          1.77913008,   2.21276956,   2.22164097,  -0.21827022,\n",
       "         -1.56422835,  -4.02853311,  -4.13284773,  -5.41765701,\n",
       "         -5.72283787,  -4.6060349 ,  -4.16159385,  -2.69288608,\n",
       "         -2.8598927 ,  -2.35460694,  -1.01478479,  -1.339279  ,\n",
       "         -1.38402048,  -0.06551213,   0.94988422,   0.94742887,\n",
       "          1.18338487,   3.31297756,   1.56179711,   2.5183434 ,\n",
       "          2.60340821,   2.35904267,   0.62374418,   1.45651601,\n",
       "          2.39554209,   0.85600757,   1.66166734,   0.81817874,\n",
       "          1.36561666,   3.46899732,   4.59519662,   4.75555423,\n",
       "          4.01822748,   3.79989198,   3.34221165,   4.53149655,\n",
       "          4.5688951 ,   4.66499034,   4.83333415,   5.31330038,\n",
       "          3.04793234,   3.14715444,   1.83109397,   2.20994559,\n",
       "          2.07614483,   2.95232729,   4.90254695,   3.90226617,\n",
       "          4.04367233,   2.24132837,   1.57480796,   3.16850283,\n",
       "          5.55810294,   6.46183428,   5.86798245,   5.6094939 ,\n",
       "          6.46753896,   4.21775992,   3.29659408,   0.41351931,\n",
       "          0.91461861,   1.9570808 ,   2.80597139,   2.13319939,\n",
       "          3.35467888,   3.8825449 ,   4.01089137,   5.08813147,\n",
       "          5.60667451,   5.04236501,   3.27350835,   3.40650339,\n",
       "          2.77071058,   2.44002857,   2.50279326,   3.03475891,\n",
       "          4.34325045,   4.55791965,   6.41590505,   6.83189292,\n",
       "          5.95022383,   6.6449485 ,   6.34402063,   5.22043657,\n",
       "          5.32578361,   5.13729599,   4.18944163,   2.81013514],\n",
       "       [ -0.29603247,  -0.72692057,  -1.19182805,  -2.18861906,\n",
       "         -2.13420155,  -3.94247445,  -3.20235978,  -5.01926679,\n",
       "         -6.05038927,  -6.05042452,  -7.31258727,  -5.98149177,\n",
       "         -5.14595883,  -4.48283135,  -3.75470926,  -2.27898134,\n",
       "         -0.95216525,  -0.97310099,  -0.89315645,  -0.70305077,\n",
       "         -2.23589624,  -2.48536584,  -0.97012389,  -1.02925529,\n",
       "         -0.99568151,  -1.00239913,  -1.56678977,  -1.27779853,\n",
       "         -1.98676422,  -2.417585  ,  -0.85898396,  -0.54002228,\n",
       "          0.38522002,   0.93365825,   0.63184722,   0.88625285,\n",
       "          1.1359251 ,   1.25348958,   0.66806045,   0.10985631,\n",
       "         -0.18605845,   0.01054426,   1.38067983,   1.75896418,\n",
       "          1.50045836,   1.94213384,   1.77502773,   3.18894025,\n",
       "          3.16979366,   3.87168311,   3.7882221 ,   4.969068  ,\n",
       "          5.37915861,   5.44590459,   3.78095547,   2.4218409 ,\n",
       "          0.1226916 ,   0.20842796,  -0.7607516 ,  -0.64167145,\n",
       "         -0.59483939,   0.58953187,   1.45240663,   2.60625053,\n",
       "          2.65967473,   1.99131045,   3.33940116,   3.25766789,\n",
       "          4.39383765,   4.53135209,   6.01901651,   5.83650764,\n",
       "          5.91441424,   7.08146602,   5.73092834,   5.23713909,\n",
       "          4.57393211,   4.8482294 ,   5.16409494,   4.43333411,\n",
       "          5.16398175,   6.53877101,   5.6656013 ,   7.60674822,\n",
       "          8.60474679,   7.00219605,   7.70029672,   7.80172497,\n",
       "         10.18143432,   9.80202029,   8.62482541,   8.35453543,\n",
       "          7.30545561,   6.32806985,   7.28095855,   6.67513187,\n",
       "          5.25905559,   5.39314129,   5.78130039,   5.30738673]]))], scale_x=LinearScale(allow_padding=False, max=1.0, min=0.0), scale_y=LinearScale(allow_padding=False, max=1.0, min=0.0))"
      ]
     },
     "metadata": {},
     "output_type": "display_data"
    }
   ],
   "source": [
    "xs, ys = bq.LinearScale (), bq.LinearScale()\n",
    "x = np.arange(100)\n",
    "y = np.cumsum (np.random.randn (2,100), axis=1)\n",
    "line = bq.Lines (x=x, y=y, scales={'x':xs, 'y':ys}, colors=['red', 'green'])\n",
    "xax = bq.Axis (scale=xs, label='x', grid_lines='solid')\n",
    "yax = bq.Axis (scale=ys, label='y', grid_lines='solid', orientation='vertical', tick_format='0.2f')\n",
    "fig = bq.Figure (marks=[line], axes=[xax,yax], animation_duration=5000)\n",
    "display(fig)"
   ]
  },
  {
   "cell_type": "code",
   "execution_count": 4,
   "metadata": {},
   "outputs": [],
   "source": [
    "line.x = np.arange(350)\n",
    "line.y = np.cumsum (np.random.randn (2, 350), axis=1)\n"
   ]
  },
  {
   "cell_type": "markdown",
   "metadata": {},
   "source": [
    "## La loi Beta\n",
    "Les fonctions $\\Gamma$ et $B$ sont définies ainsi:\n",
    "$$\n",
    "\\Gamma(x) = \\int_0^\\infty t^{x-1}e^{-t}dt \\\\\n",
    "B (p,q) = \\int_0^1 t^{p-1}(1-t)^{q-1}dt = \\frac{\\Gamma(p)\\Gamma(q)}{\\Gamma(p+q)}\n",
    "$$\n",
    "La loi Beta est définie selon la densité de probabilité suivante:\n",
    "$$\n",
    "\\forall x \\in ]0,1[\\ Beta (x, p, q) = \\frac{x^{p-1}(1-x)^{q-1}}{B(p, q)}\n",
    "$$\n",
    "\n",
    "Les fonctions $\\Gamma$ et $B$ sont définies dans le paquetage `scipy.special` respectivement sous les noms `gamma` et `beta`. Ainsi :"
   ]
  },
  {
   "cell_type": "code",
   "execution_count": 5,
   "metadata": {},
   "outputs": [
    {
     "data": {
      "text/plain": [
       "0.0"
      ]
     },
     "execution_count": 5,
     "metadata": {},
     "output_type": "execute_result"
    }
   ],
   "source": [
    "import scipy.special as sp\n",
    "\n",
    "sp.beta (2,3) - sp.gamma(2)*sp.gamma(3)/sp.gamma(5)"
   ]
  },
  {
   "cell_type": "markdown",
   "metadata": {},
   "source": [
    "La loi $Beta$ est définie dans le paquetage `scipy.stats` sous le nom de `beta`, et sa densité de probabilité est `beta.pdf` (`pdf`veut dire * *probability density function* *), mais il est très simple de la reprogrammer:"
   ]
  },
  {
   "cell_type": "code",
   "execution_count": 6,
   "metadata": {},
   "outputs": [
    {
     "data": {
      "text/plain": [
       "0.0"
      ]
     },
     "execution_count": 6,
     "metadata": {},
     "output_type": "execute_result"
    }
   ],
   "source": [
    "import scipy.stats as stats\n",
    "\n",
    "def ma_beta (x, p, q):\n",
    "    return x**(p-1)*(1-x)**(q-1)/sp.beta (p,q)\n",
    "\n",
    "ma_beta (0.4, 2, 3) - stats.beta.pdf (0.4, 2, 3)  "
   ]
  },
  {
   "cell_type": "code",
   "execution_count": 7,
   "metadata": {},
   "outputs": [],
   "source": [
    "class BetaSimulation:\n",
    "    @staticmethod\n",
    "    def create_series (p, q, ncut):\n",
    "        if p < 1 or q < 1:\n",
    "            lower = 0.001\n",
    "            upper = 0.999\n",
    "        else:\n",
    "            lower = 0.0\n",
    "            upper = 1.0\n",
    "\n",
    "        xs = np.linspace (lower, upper, ncut)\n",
    "        ys = [stats.beta.pdf (x, p, q) for x in xs]\n",
    "        return xs, ys\n",
    "        \n",
    "    def set_p (this, new_p):\n",
    "        this.p = new_p\n",
    "        this.line.x, this.line.y = this.create_series (this.p, this.q, this.ncut)\n",
    "\n",
    "    def set_q (this, new_q):\n",
    "        this.q = new_q\n",
    "        this.line.x, this.line.y = this.create_series (this.p, this.q, this.ncut)\n",
    "        \n",
    "    def __init__(this, p, q, ncut=500):\n",
    "        this.p, this.q, this.ncut = p, q, ncut\n",
    "        xs, ys = this.create_series (p, q, ncut)\n",
    "        x_scale = bq.LinearScale (min=0.0, max=1.0)\n",
    "        y_scale = bq.LinearScale (min=0.0, max=15.0)\n",
    "        xax = bq.Axis (scale=x_scale, label='x', grid_lines='solid')\n",
    "        yax = bq.Axis (scale=y_scale, label='beta.pdf(x)', grid_lines='solid', orientation='vertical', tick_format='0.2f')\n",
    "        this.line = bq.Lines (x=xs, y=ys, scales={'x':x_scale, 'y':y_scale}, colors=['red'])\n",
    "        this.fig = bq.Figure (marks=[this.line], axes=[xax, yax])\n",
    "        \n",
    "        this.p_slider = FloatSlider (\n",
    "            value=this.p,\n",
    "            min = 0.01,\n",
    "            max = 100.0,\n",
    "            step = 0.1,\n",
    "            readout = True\n",
    "        )\n",
    "    \n",
    "        this.q_slider = FloatSlider (\n",
    "            value=this.q,\n",
    "            min = 0.01,\n",
    "            max = 100.0,\n",
    "            step = 0.1,\n",
    "            readout = True\n",
    "        )    \n",
    "\n",
    "        \n",
    "    def display (this):\n",
    "        display (this.fig)\n",
    "        interact (this.set_p, new_p = this.p_slider)\n",
    "        interact (this.set_q, new_q = this.q_slider)\n",
    "        \n",
    "    def show (this):\n",
    "        plt.figure ()\n",
    "        plt.show (this.fig)\n",
    "        \n",
    "        \n",
    "        "
   ]
  },
  {
   "cell_type": "code",
   "execution_count": 8,
   "metadata": {},
   "outputs": [
    {
     "data": {
      "application/vnd.jupyter.widget-view+json": {
       "model_id": "c86d277e6d714e6390b7be6d7258eef4",
       "version_major": 2,
       "version_minor": 0
      },
      "text/html": [
       "<p>Failed to display Jupyter Widget of type <code>Figure</code>.</p>\n",
       "<p>\n",
       "  If you're reading this message in Jupyter Notebook or JupyterLab, it may mean\n",
       "  that the widgets JavaScript is still loading. If this message persists, it\n",
       "  likely means that the widgets JavaScript library is either not installed or\n",
       "  not enabled. See the <a href=\"https://ipywidgets.readthedocs.io/en/stable/user_install.html\">Jupyter\n",
       "  Widgets Documentation</a> for setup instructions.\n",
       "</p>\n",
       "<p>\n",
       "  If you're reading this message in another notebook frontend (for example, a static\n",
       "  rendering on GitHub or <a href=\"https://nbviewer.jupyter.org/\">NBViewer</a>),\n",
       "  it may mean that your frontend doesn't currently support widgets.\n",
       "</p>\n"
      ],
      "text/plain": [
       "Figure(axes=[Axis(label='x', scale=LinearScale(max=1.0, min=0.0)), Axis(label='beta.pdf(x)', orientation='vertical', scale=LinearScale(max=15.0, min=0.0), tick_format='0.2f')], fig_margin={'top': 60, 'bottom': 60, 'left': 60, 'right': 60}, layout=Layout(min_width='125px'), marks=[Lines(colors=['red'], interactions={'hover': 'tooltip'}, scales={'x': LinearScale(max=1.0, min=0.0), 'y': LinearScale(max=15.0, min=0.0)}, scales_metadata={'x': {'orientation': 'horizontal', 'dimension': 'x'}, 'y': {'orientation': 'vertical', 'dimension': 'y'}, 'color': {'dimension': 'color'}}, tooltip_style={'opacity': 0.9}, x=array([ 0.        ,  0.00200401,  0.00400802,  0.00601202,  0.00801603,\n",
       "        0.01002004,  0.01202405,  0.01402806,  0.01603206,  0.01803607,\n",
       "        0.02004008,  0.02204409,  0.0240481 ,  0.0260521 ,  0.02805611,\n",
       "        0.03006012,  0.03206413,  0.03406814,  0.03607214,  0.03807615,\n",
       "        0.04008016,  0.04208417,  0.04408818,  0.04609218,  0.04809619,\n",
       "        0.0501002 ,  0.05210421,  0.05410822,  0.05611222,  0.05811623,\n",
       "        0.06012024,  0.06212425,  0.06412826,  0.06613226,  0.06813627,\n",
       "        0.07014028,  0.07214429,  0.0741483 ,  0.0761523 ,  0.07815631,\n",
       "        0.08016032,  0.08216433,  0.08416834,  0.08617234,  0.08817635,\n",
       "        0.09018036,  0.09218437,  0.09418838,  0.09619238,  0.09819639,\n",
       "        0.1002004 ,  0.10220441,  0.10420842,  0.10621242,  0.10821643,\n",
       "        0.11022044,  0.11222445,  0.11422846,  0.11623246,  0.11823647,\n",
       "        0.12024048,  0.12224449,  0.1242485 ,  0.12625251,  0.12825651,\n",
       "        0.13026052,  0.13226453,  0.13426854,  0.13627255,  0.13827655,\n",
       "        0.14028056,  0.14228457,  0.14428858,  0.14629259,  0.14829659,\n",
       "        0.1503006 ,  0.15230461,  0.15430862,  0.15631263,  0.15831663,\n",
       "        0.16032064,  0.16232465,  0.16432866,  0.16633267,  0.16833667,\n",
       "        0.17034068,  0.17234469,  0.1743487 ,  0.17635271,  0.17835671,\n",
       "        0.18036072,  0.18236473,  0.18436874,  0.18637275,  0.18837675,\n",
       "        0.19038076,  0.19238477,  0.19438878,  0.19639279,  0.19839679,\n",
       "        0.2004008 ,  0.20240481,  0.20440882,  0.20641283,  0.20841683,\n",
       "        0.21042084,  0.21242485,  0.21442886,  0.21643287,  0.21843687,\n",
       "        0.22044088,  0.22244489,  0.2244489 ,  0.22645291,  0.22845691,\n",
       "        0.23046092,  0.23246493,  0.23446894,  0.23647295,  0.23847695,\n",
       "        0.24048096,  0.24248497,  0.24448898,  0.24649299,  0.24849699,\n",
       "        0.250501  ,  0.25250501,  0.25450902,  0.25651303,  0.25851703,\n",
       "        0.26052104,  0.26252505,  0.26452906,  0.26653307,  0.26853707,\n",
       "        0.27054108,  0.27254509,  0.2745491 ,  0.27655311,  0.27855711,\n",
       "        0.28056112,  0.28256513,  0.28456914,  0.28657315,  0.28857715,\n",
       "        0.29058116,  0.29258517,  0.29458918,  0.29659319,  0.29859719,\n",
       "        0.3006012 ,  0.30260521,  0.30460922,  0.30661323,  0.30861723,\n",
       "        0.31062124,  0.31262525,  0.31462926,  0.31663327,  0.31863727,\n",
       "        0.32064128,  0.32264529,  0.3246493 ,  0.32665331,  0.32865731,\n",
       "        0.33066132,  0.33266533,  0.33466934,  0.33667335,  0.33867735,\n",
       "        0.34068136,  0.34268537,  0.34468938,  0.34669339,  0.34869739,\n",
       "        0.3507014 ,  0.35270541,  0.35470942,  0.35671343,  0.35871743,\n",
       "        0.36072144,  0.36272545,  0.36472946,  0.36673347,  0.36873747,\n",
       "        0.37074148,  0.37274549,  0.3747495 ,  0.37675351,  0.37875752,\n",
       "        0.38076152,  0.38276553,  0.38476954,  0.38677355,  0.38877756,\n",
       "        0.39078156,  0.39278557,  0.39478958,  0.39679359,  0.3987976 ,\n",
       "        0.4008016 ,  0.40280561,  0.40480962,  0.40681363,  0.40881764,\n",
       "        0.41082164,  0.41282565,  0.41482966,  0.41683367,  0.41883768,\n",
       "        0.42084168,  0.42284569,  0.4248497 ,  0.42685371,  0.42885772,\n",
       "        0.43086172,  0.43286573,  0.43486974,  0.43687375,  0.43887776,\n",
       "        0.44088176,  0.44288577,  0.44488978,  0.44689379,  0.4488978 ,\n",
       "        0.4509018 ,  0.45290581,  0.45490982,  0.45691383,  0.45891784,\n",
       "        0.46092184,  0.46292585,  0.46492986,  0.46693387,  0.46893788,\n",
       "        0.47094188,  0.47294589,  0.4749499 ,  0.47695391,  0.47895792,\n",
       "        0.48096192,  0.48296593,  0.48496994,  0.48697395,  0.48897796,\n",
       "        0.49098196,  0.49298597,  0.49498998,  0.49699399,  0.498998  ,\n",
       "        0.501002  ,  0.50300601,  0.50501002,  0.50701403,  0.50901804,\n",
       "        0.51102204,  0.51302605,  0.51503006,  0.51703407,  0.51903808,\n",
       "        0.52104208,  0.52304609,  0.5250501 ,  0.52705411,  0.52905812,\n",
       "        0.53106212,  0.53306613,  0.53507014,  0.53707415,  0.53907816,\n",
       "        0.54108216,  0.54308617,  0.54509018,  0.54709419,  0.5490982 ,\n",
       "        0.5511022 ,  0.55310621,  0.55511022,  0.55711423,  0.55911824,\n",
       "        0.56112224,  0.56312625,  0.56513026,  0.56713427,  0.56913828,\n",
       "        0.57114228,  0.57314629,  0.5751503 ,  0.57715431,  0.57915832,\n",
       "        0.58116232,  0.58316633,  0.58517034,  0.58717435,  0.58917836,\n",
       "        0.59118236,  0.59318637,  0.59519038,  0.59719439,  0.5991984 ,\n",
       "        0.6012024 ,  0.60320641,  0.60521042,  0.60721443,  0.60921844,\n",
       "        0.61122244,  0.61322645,  0.61523046,  0.61723447,  0.61923848,\n",
       "        0.62124248,  0.62324649,  0.6252505 ,  0.62725451,  0.62925852,\n",
       "        0.63126253,  0.63326653,  0.63527054,  0.63727455,  0.63927856,\n",
       "        0.64128257,  0.64328657,  0.64529058,  0.64729459,  0.6492986 ,\n",
       "        0.65130261,  0.65330661,  0.65531062,  0.65731463,  0.65931864,\n",
       "        0.66132265,  0.66332665,  0.66533066,  0.66733467,  0.66933868,\n",
       "        0.67134269,  0.67334669,  0.6753507 ,  0.67735471,  0.67935872,\n",
       "        0.68136273,  0.68336673,  0.68537074,  0.68737475,  0.68937876,\n",
       "        0.69138277,  0.69338677,  0.69539078,  0.69739479,  0.6993988 ,\n",
       "        0.70140281,  0.70340681,  0.70541082,  0.70741483,  0.70941884,\n",
       "        0.71142285,  0.71342685,  0.71543086,  0.71743487,  0.71943888,\n",
       "        0.72144289,  0.72344689,  0.7254509 ,  0.72745491,  0.72945892,\n",
       "        0.73146293,  0.73346693,  0.73547094,  0.73747495,  0.73947896,\n",
       "        0.74148297,  0.74348697,  0.74549098,  0.74749499,  0.749499  ,\n",
       "        0.75150301,  0.75350701,  0.75551102,  0.75751503,  0.75951904,\n",
       "        0.76152305,  0.76352705,  0.76553106,  0.76753507,  0.76953908,\n",
       "        0.77154309,  0.77354709,  0.7755511 ,  0.77755511,  0.77955912,\n",
       "        0.78156313,  0.78356713,  0.78557114,  0.78757515,  0.78957916,\n",
       "        0.79158317,  0.79358717,  0.79559118,  0.79759519,  0.7995992 ,\n",
       "        0.80160321,  0.80360721,  0.80561122,  0.80761523,  0.80961924,\n",
       "        0.81162325,  0.81362725,  0.81563126,  0.81763527,  0.81963928,\n",
       "        0.82164329,  0.82364729,  0.8256513 ,  0.82765531,  0.82965932,\n",
       "        0.83166333,  0.83366733,  0.83567134,  0.83767535,  0.83967936,\n",
       "        0.84168337,  0.84368737,  0.84569138,  0.84769539,  0.8496994 ,\n",
       "        0.85170341,  0.85370741,  0.85571142,  0.85771543,  0.85971944,\n",
       "        0.86172345,  0.86372745,  0.86573146,  0.86773547,  0.86973948,\n",
       "        0.87174349,  0.87374749,  0.8757515 ,  0.87775551,  0.87975952,\n",
       "        0.88176353,  0.88376754,  0.88577154,  0.88777555,  0.88977956,\n",
       "        0.89178357,  0.89378758,  0.89579158,  0.89779559,  0.8997996 ,\n",
       "        0.90180361,  0.90380762,  0.90581162,  0.90781563,  0.90981964,\n",
       "        0.91182365,  0.91382766,  0.91583166,  0.91783567,  0.91983968,\n",
       "        0.92184369,  0.9238477 ,  0.9258517 ,  0.92785571,  0.92985972,\n",
       "        0.93186373,  0.93386774,  0.93587174,  0.93787575,  0.93987976,\n",
       "        0.94188377,  0.94388778,  0.94589178,  0.94789579,  0.9498998 ,\n",
       "        0.95190381,  0.95390782,  0.95591182,  0.95791583,  0.95991984,\n",
       "        0.96192385,  0.96392786,  0.96593186,  0.96793587,  0.96993988,\n",
       "        0.97194389,  0.9739479 ,  0.9759519 ,  0.97795591,  0.97995992,\n",
       "        0.98196393,  0.98396794,  0.98597194,  0.98797595,  0.98997996,\n",
       "        0.99198397,  0.99398798,  0.99599198,  0.99799599,  1.        ]), y=array([  0.00000000e+00,   1.00798381e-08,   1.59985905e-07,\n",
       "         8.03429750e-07,   2.51881891e-06,   6.09991801e-06,\n",
       "         1.25466812e-05,   2.30562544e-05,   3.90141456e-05,\n",
       "         6.19855619e-05,   9.37069108e-05,   1.36077466e-04,\n",
       "         1.91151193e-04,   2.61128739e-04,   3.48349572e-04,\n",
       "         4.55284293e-04,   5.84527083e-04,   7.38788324e-04,\n",
       "         9.20887357e-04,   1.13374540e-03,   1.38037861e-03,\n",
       "         1.66389130e-03,   1.98746928e-03,   2.35437338e-03,\n",
       "         2.76793310e-03,   3.23154037e-03,   3.74864349e-03,\n",
       "         4.32274120e-03,   4.95737690e-03,   5.65613293e-03,\n",
       "         6.42262513e-03,   7.26049736e-03,   8.17341631e-03,\n",
       "         9.16506629e-03,   1.02391443e-02,   1.13993551e-02,\n",
       "         1.26494066e-02,   1.39930048e-02,   1.54338499e-02,\n",
       "         1.69756315e-02,   1.86220244e-02,   2.03766846e-02,\n",
       "         2.22432450e-02,   2.42253119e-02,   2.63264607e-02,\n",
       "         2.85502326e-02,   3.09001309e-02,   3.33796175e-02,\n",
       "         3.59921095e-02,   3.87409762e-02,   4.16295356e-02,\n",
       "         4.46610516e-02,   4.78387311e-02,   5.11657209e-02,\n",
       "         5.46451054e-02,   5.82799034e-02,   6.20730660e-02,\n",
       "         6.60274743e-02,   7.01459363e-02,   7.44311856e-02,\n",
       "         7.88858786e-02,   8.35125926e-02,   8.83138240e-02,\n",
       "         9.32919862e-02,   9.84494078e-02,   1.03788331e-01,\n",
       "         1.09310911e-01,   1.15019211e-01,   1.20915205e-01,\n",
       "         1.27000775e-01,   1.33277707e-01,   1.39747696e-01,\n",
       "         1.46412336e-01,   1.53273128e-01,   1.60331473e-01,\n",
       "         1.67588674e-01,   1.75045932e-01,   1.82704351e-01,\n",
       "         1.90564930e-01,   1.98628568e-01,   2.06896062e-01,\n",
       "         2.15368105e-01,   2.24045288e-01,   2.32928096e-01,\n",
       "         2.42016912e-01,   2.51312015e-01,   2.60813577e-01,\n",
       "         2.70521670e-01,   2.80436256e-01,   2.90557197e-01,\n",
       "         3.00884250e-01,   3.11417064e-01,   3.22155189e-01,\n",
       "         3.33098067e-01,   3.44245040e-01,   3.55595344e-01,\n",
       "         3.67148114e-01,   3.78902381e-01,   3.90857075e-01,\n",
       "         4.03011026e-01,   4.15362961e-01,   4.27911510e-01,\n",
       "         4.40655199e-01,   4.53592460e-01,   4.66721625e-01,\n",
       "         4.80040930e-01,   4.93548512e-01,   5.07242417e-01,\n",
       "         5.21120594e-01,   5.35180898e-01,   5.49421095e-01,\n",
       "         5.63838857e-01,   5.78431766e-01,   5.93197316e-01,\n",
       "         6.08132912e-01,   6.23235873e-01,   6.38503434e-01,\n",
       "         6.53932743e-01,   6.69520866e-01,   6.85264788e-01,\n",
       "         7.01161415e-01,   7.17207570e-01,   7.33400004e-01,\n",
       "         7.49735387e-01,   7.66210318e-01,   7.82821320e-01,\n",
       "         7.99564847e-01,   8.16437281e-01,   8.33434936e-01,\n",
       "         8.50554060e-01,   8.67790833e-01,   8.85141375e-01,\n",
       "         9.02601740e-01,   9.20167923e-01,   9.37835862e-01,\n",
       "         9.55601435e-01,   9.73460465e-01,   9.91408722e-01,\n",
       "         1.00944192e+00,   1.02755574e+00,   1.04574578e+00,\n",
       "         1.06400763e+00,   1.08233680e+00,   1.10072879e+00,\n",
       "         1.11917903e+00,   1.13768293e+00,   1.15623585e+00,\n",
       "         1.17483311e+00,   1.19347001e+00,   1.21214182e+00,\n",
       "         1.23084376e+00,   1.24957103e+00,   1.26831882e+00,\n",
       "         1.28708226e+00,   1.30585648e+00,   1.32463659e+00,\n",
       "         1.34341768e+00,   1.36219480e+00,   1.38096302e+00,\n",
       "         1.39971736e+00,   1.41845286e+00,   1.43716453e+00,\n",
       "         1.45584737e+00,   1.47449638e+00,   1.49310656e+00,\n",
       "         1.51167290e+00,   1.53019039e+00,   1.54865402e+00,\n",
       "         1.56705878e+00,   1.58539967e+00,   1.60367169e+00,\n",
       "         1.62186985e+00,   1.63998918e+00,   1.65802470e+00,\n",
       "         1.67597147e+00,   1.69382454e+00,   1.71157898e+00,\n",
       "         1.72922990e+00,   1.74677241e+00,   1.76420164e+00,\n",
       "         1.78151276e+00,   1.79870095e+00,   1.81576142e+00,\n",
       "         1.83268942e+00,   1.84948022e+00,   1.86612912e+00,\n",
       "         1.88263146e+00,   1.89898261e+00,   1.91517797e+00,\n",
       "         1.93121300e+00,   1.94708318e+00,   1.96278405e+00,\n",
       "         1.97831116e+00,   1.99366014e+00,   2.00882665e+00,\n",
       "         2.02380640e+00,   2.03859514e+00,   2.05318868e+00,\n",
       "         2.06758288e+00,   2.08177366e+00,   2.09575698e+00,\n",
       "         2.10952886e+00,   2.12308538e+00,   2.13642268e+00,\n",
       "         2.14953697e+00,   2.16242449e+00,   2.17508156e+00,\n",
       "         2.18750459e+00,   2.19969000e+00,   2.21163432e+00,\n",
       "         2.22333413e+00,   2.23478608e+00,   2.24598688e+00,\n",
       "         2.25693333e+00,   2.26762229e+00,   2.27805069e+00,\n",
       "         2.28821554e+00,   2.29811392e+00,   2.30774298e+00,\n",
       "         2.31709996e+00,   2.32618216e+00,   2.33498698e+00,\n",
       "         2.34351188e+00,   2.35175440e+00,   2.35971217e+00,\n",
       "         2.36738291e+00,   2.37476440e+00,   2.38185451e+00,\n",
       "         2.38865119e+00,   2.39515250e+00,   2.40135655e+00,\n",
       "         2.40726156e+00,   2.41286581e+00,   2.41816770e+00,\n",
       "         2.42316568e+00,   2.42785833e+00,   2.43224428e+00,\n",
       "         2.43632226e+00,   2.44009111e+00,   2.44354972e+00,\n",
       "         2.44669710e+00,   2.44953235e+00,   2.45205463e+00,\n",
       "         2.45426323e+00,   2.45615750e+00,   2.45773689e+00,\n",
       "         2.45900096e+00,   2.45994932e+00,   2.46058172e+00,\n",
       "         2.46089797e+00,   2.46089797e+00,   2.46058172e+00,\n",
       "         2.45994932e+00,   2.45900096e+00,   2.45773689e+00,\n",
       "         2.45615750e+00,   2.45426323e+00,   2.45205463e+00,\n",
       "         2.44953235e+00,   2.44669710e+00,   2.44354972e+00,\n",
       "         2.44009111e+00,   2.43632226e+00,   2.43224428e+00,\n",
       "         2.42785833e+00,   2.42316568e+00,   2.41816770e+00,\n",
       "         2.41286581e+00,   2.40726156e+00,   2.40135655e+00,\n",
       "         2.39515250e+00,   2.38865119e+00,   2.38185451e+00,\n",
       "         2.37476440e+00,   2.36738291e+00,   2.35971217e+00,\n",
       "         2.35175440e+00,   2.34351188e+00,   2.33498698e+00,\n",
       "         2.32618216e+00,   2.31709996e+00,   2.30774298e+00,\n",
       "         2.29811392e+00,   2.28821554e+00,   2.27805069e+00,\n",
       "         2.26762229e+00,   2.25693333e+00,   2.24598688e+00,\n",
       "         2.23478608e+00,   2.22333413e+00,   2.21163432e+00,\n",
       "         2.19969000e+00,   2.18750459e+00,   2.17508156e+00,\n",
       "         2.16242449e+00,   2.14953697e+00,   2.13642268e+00,\n",
       "         2.12308538e+00,   2.10952886e+00,   2.09575698e+00,\n",
       "         2.08177366e+00,   2.06758288e+00,   2.05318868e+00,\n",
       "         2.03859514e+00,   2.02380640e+00,   2.00882665e+00,\n",
       "         1.99366014e+00,   1.97831116e+00,   1.96278405e+00,\n",
       "         1.94708318e+00,   1.93121300e+00,   1.91517797e+00,\n",
       "         1.89898261e+00,   1.88263146e+00,   1.86612912e+00,\n",
       "         1.84948022e+00,   1.83268942e+00,   1.81576142e+00,\n",
       "         1.79870095e+00,   1.78151276e+00,   1.76420164e+00,\n",
       "         1.74677241e+00,   1.72922990e+00,   1.71157898e+00,\n",
       "         1.69382454e+00,   1.67597147e+00,   1.65802470e+00,\n",
       "         1.63998918e+00,   1.62186985e+00,   1.60367169e+00,\n",
       "         1.58539967e+00,   1.56705878e+00,   1.54865402e+00,\n",
       "         1.53019039e+00,   1.51167290e+00,   1.49310656e+00,\n",
       "         1.47449638e+00,   1.45584737e+00,   1.43716453e+00,\n",
       "         1.41845286e+00,   1.39971736e+00,   1.38096302e+00,\n",
       "         1.36219480e+00,   1.34341768e+00,   1.32463659e+00,\n",
       "         1.30585648e+00,   1.28708226e+00,   1.26831882e+00,\n",
       "         1.24957103e+00,   1.23084376e+00,   1.21214182e+00,\n",
       "         1.19347001e+00,   1.17483311e+00,   1.15623585e+00,\n",
       "         1.13768293e+00,   1.11917903e+00,   1.10072879e+00,\n",
       "         1.08233680e+00,   1.06400763e+00,   1.04574578e+00,\n",
       "         1.02755574e+00,   1.00944192e+00,   9.91408722e-01,\n",
       "         9.73460465e-01,   9.55601435e-01,   9.37835862e-01,\n",
       "         9.20167923e-01,   9.02601740e-01,   8.85141375e-01,\n",
       "         8.67790833e-01,   8.50554060e-01,   8.33434936e-01,\n",
       "         8.16437281e-01,   7.99564847e-01,   7.82821320e-01,\n",
       "         7.66210318e-01,   7.49735387e-01,   7.33400004e-01,\n",
       "         7.17207570e-01,   7.01161415e-01,   6.85264788e-01,\n",
       "         6.69520866e-01,   6.53932743e-01,   6.38503434e-01,\n",
       "         6.23235873e-01,   6.08132912e-01,   5.93197316e-01,\n",
       "         5.78431766e-01,   5.63838857e-01,   5.49421095e-01,\n",
       "         5.35180898e-01,   5.21120594e-01,   5.07242417e-01,\n",
       "         4.93548512e-01,   4.80040930e-01,   4.66721625e-01,\n",
       "         4.53592460e-01,   4.40655199e-01,   4.27911510e-01,\n",
       "         4.15362961e-01,   4.03011026e-01,   3.90857075e-01,\n",
       "         3.78902381e-01,   3.67148114e-01,   3.55595344e-01,\n",
       "         3.44245040e-01,   3.33098067e-01,   3.22155189e-01,\n",
       "         3.11417064e-01,   3.00884250e-01,   2.90557197e-01,\n",
       "         2.80436256e-01,   2.70521670e-01,   2.60813577e-01,\n",
       "         2.51312015e-01,   2.42016912e-01,   2.32928096e-01,\n",
       "         2.24045288e-01,   2.15368105e-01,   2.06896062e-01,\n",
       "         1.98628568e-01,   1.90564930e-01,   1.82704351e-01,\n",
       "         1.75045932e-01,   1.67588674e-01,   1.60331473e-01,\n",
       "         1.53273128e-01,   1.46412336e-01,   1.39747696e-01,\n",
       "         1.33277707e-01,   1.27000775e-01,   1.20915205e-01,\n",
       "         1.15019211e-01,   1.09310911e-01,   1.03788331e-01,\n",
       "         9.84494078e-02,   9.32919862e-02,   8.83138240e-02,\n",
       "         8.35125926e-02,   7.88858786e-02,   7.44311856e-02,\n",
       "         7.01459363e-02,   6.60274743e-02,   6.20730660e-02,\n",
       "         5.82799034e-02,   5.46451054e-02,   5.11657209e-02,\n",
       "         4.78387311e-02,   4.46610516e-02,   4.16295356e-02,\n",
       "         3.87409762e-02,   3.59921095e-02,   3.33796175e-02,\n",
       "         3.09001309e-02,   2.85502326e-02,   2.63264607e-02,\n",
       "         2.42253119e-02,   2.22432450e-02,   2.03766846e-02,\n",
       "         1.86220244e-02,   1.69756315e-02,   1.54338499e-02,\n",
       "         1.39930048e-02,   1.26494066e-02,   1.13993551e-02,\n",
       "         1.02391443e-02,   9.16506629e-03,   8.17341631e-03,\n",
       "         7.26049736e-03,   6.42262513e-03,   5.65613293e-03,\n",
       "         4.95737690e-03,   4.32274120e-03,   3.74864349e-03,\n",
       "         3.23154037e-03,   2.76793310e-03,   2.35437338e-03,\n",
       "         1.98746928e-03,   1.66389130e-03,   1.38037861e-03,\n",
       "         1.13374540e-03,   9.20887357e-04,   7.38788324e-04,\n",
       "         5.84527083e-04,   4.55284293e-04,   3.48349572e-04,\n",
       "         2.61128739e-04,   1.91151193e-04,   1.36077466e-04,\n",
       "         9.37069108e-05,   6.19855619e-05,   3.90141456e-05,\n",
       "         2.30562544e-05,   1.25466812e-05,   6.09991801e-06,\n",
       "         2.51881891e-06,   8.03429750e-07,   1.59985905e-07,\n",
       "         1.00798381e-08,   0.00000000e+00]))], scale_x=LinearScale(allow_padding=False, max=1.0, min=0.0), scale_y=LinearScale(allow_padding=False, max=1.0, min=0.0))"
      ]
     },
     "metadata": {},
     "output_type": "display_data"
    },
    {
     "data": {
      "application/vnd.jupyter.widget-view+json": {
       "model_id": "bcef763cd4a34d669361d4a55463ce08",
       "version_major": 2,
       "version_minor": 0
      },
      "text/html": [
       "<p>Failed to display Jupyter Widget of type <code>interactive</code>.</p>\n",
       "<p>\n",
       "  If you're reading this message in Jupyter Notebook or JupyterLab, it may mean\n",
       "  that the widgets JavaScript is still loading. If this message persists, it\n",
       "  likely means that the widgets JavaScript library is either not installed or\n",
       "  not enabled. See the <a href=\"https://ipywidgets.readthedocs.io/en/stable/user_install.html\">Jupyter\n",
       "  Widgets Documentation</a> for setup instructions.\n",
       "</p>\n",
       "<p>\n",
       "  If you're reading this message in another notebook frontend (for example, a static\n",
       "  rendering on GitHub or <a href=\"https://nbviewer.jupyter.org/\">NBViewer</a>),\n",
       "  it may mean that your frontend doesn't currently support widgets.\n",
       "</p>\n"
      ],
      "text/plain": [
       "interactive(children=(FloatSlider(value=5.0, description='new_p', min=0.01), Output()), _dom_classes=('widget-interact',))"
      ]
     },
     "metadata": {},
     "output_type": "display_data"
    },
    {
     "data": {
      "application/vnd.jupyter.widget-view+json": {
       "model_id": "781ce91dd87b4ce5b195c6afc7ad5111",
       "version_major": 2,
       "version_minor": 0
      },
      "text/html": [
       "<p>Failed to display Jupyter Widget of type <code>interactive</code>.</p>\n",
       "<p>\n",
       "  If you're reading this message in Jupyter Notebook or JupyterLab, it may mean\n",
       "  that the widgets JavaScript is still loading. If this message persists, it\n",
       "  likely means that the widgets JavaScript library is either not installed or\n",
       "  not enabled. See the <a href=\"https://ipywidgets.readthedocs.io/en/stable/user_install.html\">Jupyter\n",
       "  Widgets Documentation</a> for setup instructions.\n",
       "</p>\n",
       "<p>\n",
       "  If you're reading this message in another notebook frontend (for example, a static\n",
       "  rendering on GitHub or <a href=\"https://nbviewer.jupyter.org/\">NBViewer</a>),\n",
       "  it may mean that your frontend doesn't currently support widgets.\n",
       "</p>\n"
      ],
      "text/plain": [
       "interactive(children=(FloatSlider(value=5.0, description='new_q', min=0.01), Output()), _dom_classes=('widget-interact',))"
      ]
     },
     "metadata": {},
     "output_type": "display_data"
    }
   ],
   "source": [
    "BetaSimulation(5,5).display()\n"
   ]
  },
  {
   "cell_type": "markdown",
   "metadata": {},
   "source": [
    "## Sliders avec matplotlib.pyplot"
   ]
  },
  {
   "cell_type": "code",
   "execution_count": 9,
   "metadata": {},
   "outputs": [
    {
     "data": {
      "application/vnd.jupyter.widget-view+json": {
       "model_id": "f0aabe85efe44b239d5fa5eb504e0119",
       "version_major": 2,
       "version_minor": 0
      },
      "text/html": [
       "<p>Failed to display Jupyter Widget of type <code>interactive</code>.</p>\n",
       "<p>\n",
       "  If you're reading this message in Jupyter Notebook or JupyterLab, it may mean\n",
       "  that the widgets JavaScript is still loading. If this message persists, it\n",
       "  likely means that the widgets JavaScript library is either not installed or\n",
       "  not enabled. See the <a href=\"https://ipywidgets.readthedocs.io/en/stable/user_install.html\">Jupyter\n",
       "  Widgets Documentation</a> for setup instructions.\n",
       "</p>\n",
       "<p>\n",
       "  If you're reading this message in another notebook frontend (for example, a static\n",
       "  rendering on GitHub or <a href=\"https://nbviewer.jupyter.org/\">NBViewer</a>),\n",
       "  it may mean that your frontend doesn't currently support widgets.\n",
       "</p>\n"
      ],
      "text/plain": [
       "interactive(children=(IntSlider(value=5, description='p', max=10), IntSlider(value=10, description='q', max=20), Output()), _dom_classes=('widget-interact',))"
      ]
     },
     "metadata": {},
     "output_type": "display_data"
    }
   ],
   "source": [
    "import matplotlib.pyplot as plt0\n",
    "plt0.style.use('ggplot')\n",
    "@interact(p=(0,10), q=(0, 20))\n",
    "def g (p,q):\n",
    "    if p < 1:\n",
    "        lower = 0.001\n",
    "        upper = 0.999\n",
    "    else:\n",
    "        lower = 0\n",
    "        upper = 1\n",
    "        \n",
    "    xs = np.linspace (lower, upper, 100)\n",
    "    ys = [stats.beta.pdf (x, p, q) for x in xs]\n",
    "    plt0.figure (figsize=(10,6))\n",
    "    plt0.plot (xs, ys)\n",
    "    plt0.title ('FOO')\n",
    "    "
   ]
  },
  {
   "cell_type": "markdown",
   "metadata": {},
   "source": [
    "## Graphiques avec bqplot.pyplot, illustre <i>the grammar of graphics</i>"
   ]
  },
  {
   "cell_type": "code",
   "execution_count": 10,
   "metadata": {},
   "outputs": [
    {
     "data": {
      "application/vnd.jupyter.widget-view+json": {
       "model_id": "3df7c80ceb4b4c6b98154a03a8612a3b",
       "version_major": 2,
       "version_minor": 0
      },
      "text/html": [
       "<p>Failed to display Jupyter Widget of type <code>VBox</code>.</p>\n",
       "<p>\n",
       "  If you're reading this message in Jupyter Notebook or JupyterLab, it may mean\n",
       "  that the widgets JavaScript is still loading. If this message persists, it\n",
       "  likely means that the widgets JavaScript library is either not installed or\n",
       "  not enabled. See the <a href=\"https://ipywidgets.readthedocs.io/en/stable/user_install.html\">Jupyter\n",
       "  Widgets Documentation</a> for setup instructions.\n",
       "</p>\n",
       "<p>\n",
       "  If you're reading this message in another notebook frontend (for example, a static\n",
       "  rendering on GitHub or <a href=\"https://nbviewer.jupyter.org/\">NBViewer</a>),\n",
       "  it may mean that your frontend doesn't currently support widgets.\n",
       "</p>\n"
      ],
      "text/plain": [
       "VBox(children=(Figure(axes=[Axis(orientation='vertical', scale=LinearScale()), Axis(scale=LinearScale())], fig_margin={'top': 60, 'bottom': 60, 'left': 60, 'right': 60}, layout=Layout(min_width='125px'), marks=[Hist(colors=['OrangeRed'], interactions={'hover': 'tooltip'}, sample=array([-0.57581816,  0.27266669,  0.69244449,  0.26962056,  1.03976682,\n",
       "        1.89263228, -0.12974612,  0.72715475,  0.65885432,  0.03079376,\n",
       "       -0.8165788 ,  1.01086197,  0.81833394, -0.7488104 , -0.15267713,\n",
       "        0.52614451, -1.10251673,  0.31622171, -1.04511116,  0.23341094,\n",
       "        0.24062565, -0.06852046, -0.41223195,  0.57890152,  0.56547447,\n",
       "        0.44223294,  0.62027299, -0.8162216 ,  0.66077905, -1.21693626,\n",
       "       -2.45112936, -0.72562682,  0.17047797, -0.88665162, -0.42309129,\n",
       "       -1.1772568 ,  0.37085244, -0.23959473,  1.34046588,  0.92593488,\n",
       "       -0.1451069 ,  1.04345332,  0.09825674,  0.44068195,  1.51777931,\n",
       "        0.95407209, -0.56705189,  0.39433253,  1.59279575,  1.1746469 ,\n",
       "       -0.93740423,  0.60180369, -0.87031728,  0.26112653,  0.38281672,\n",
       "        1.02562563, -0.35055785, -0.02207261, -0.96027817, -0.15524421,\n",
       "       -0.18457655,  0.44109885,  0.81596821, -1.00152951,  0.06015965,\n",
       "        0.32167767,  1.61214829,  0.56025168,  1.26808205,  1.30421811,\n",
       "        1.15098259, -0.48586509, -0.2076803 ,  0.90946298,  0.48542425,\n",
       "       -0.40417996,  0.49361627,  0.39175143, -0.3714184 ,  0.79851785,\n",
       "       -0.8479758 ,  0.5808949 ,  0.00465951, -1.05127742, -0.36396826,\n",
       "        0.22816072, -0.44305969,  1.32153422, -0.36776719,  0.2993594 ,\n",
       "       -0.66040125, -0.33949861,  0.21922633, -0.09019687,  0.42177972,\n",
       "        1.24957748,  0.1879167 , -1.14494412,  0.07166331, -1.32199348]), scales={'count': LinearScale(), 'sample': LinearScale()}, scales_metadata={'sample': {'orientation': 'horizontal', 'dimension': 'x'}, 'count': {'orientation': 'vertical', 'dimension': 'y'}}, tooltip_style={'opacity': 0.9})], scale_x=LinearScale(allow_padding=False, max=1.0, min=0.0), scale_y=LinearScale(allow_padding=False, max=1.0, min=0.0)), Toolbar(figure=Figure(axes=[Axis(orientation='vertical', scale=LinearScale()), Axis(scale=LinearScale())], fig_margin={'top': 60, 'bottom': 60, 'left': 60, 'right': 60}, layout=Layout(min_width='125px'), marks=[Hist(colors=['OrangeRed'], interactions={'hover': 'tooltip'}, sample=array([-0.57581816,  0.27266669,  0.69244449,  0.26962056,  1.03976682,\n",
       "        1.89263228, -0.12974612,  0.72715475,  0.65885432,  0.03079376,\n",
       "       -0.8165788 ,  1.01086197,  0.81833394, -0.7488104 , -0.15267713,\n",
       "        0.52614451, -1.10251673,  0.31622171, -1.04511116,  0.23341094,\n",
       "        0.24062565, -0.06852046, -0.41223195,  0.57890152,  0.56547447,\n",
       "        0.44223294,  0.62027299, -0.8162216 ,  0.66077905, -1.21693626,\n",
       "       -2.45112936, -0.72562682,  0.17047797, -0.88665162, -0.42309129,\n",
       "       -1.1772568 ,  0.37085244, -0.23959473,  1.34046588,  0.92593488,\n",
       "       -0.1451069 ,  1.04345332,  0.09825674,  0.44068195,  1.51777931,\n",
       "        0.95407209, -0.56705189,  0.39433253,  1.59279575,  1.1746469 ,\n",
       "       -0.93740423,  0.60180369, -0.87031728,  0.26112653,  0.38281672,\n",
       "        1.02562563, -0.35055785, -0.02207261, -0.96027817, -0.15524421,\n",
       "       -0.18457655,  0.44109885,  0.81596821, -1.00152951,  0.06015965,\n",
       "        0.32167767,  1.61214829,  0.56025168,  1.26808205,  1.30421811,\n",
       "        1.15098259, -0.48586509, -0.2076803 ,  0.90946298,  0.48542425,\n",
       "       -0.40417996,  0.49361627,  0.39175143, -0.3714184 ,  0.79851785,\n",
       "       -0.8479758 ,  0.5808949 ,  0.00465951, -1.05127742, -0.36396826,\n",
       "        0.22816072, -0.44305969,  1.32153422, -0.36776719,  0.2993594 ,\n",
       "       -0.66040125, -0.33949861,  0.21922633, -0.09019687,  0.42177972,\n",
       "        1.24957748,  0.1879167 , -1.14494412,  0.07166331, -1.32199348]), scales={'count': LinearScale(), 'sample': LinearScale()}, scales_metadata={'sample': {'orientation': 'horizontal', 'dimension': 'x'}, 'count': {'orientation': 'vertical', 'dimension': 'y'}}, tooltip_style={'opacity': 0.9})], scale_x=LinearScale(allow_padding=False, max=1.0, min=0.0), scale_y=LinearScale(allow_padding=False, max=1.0, min=0.0)))))"
      ]
     },
     "metadata": {},
     "output_type": "display_data"
    }
   ],
   "source": [
    "plt.figure ()\n",
    "#plt.scatter (np.random.randn (100), np.random.randn (100), color=np.random.randn (100))\n",
    "plt.hist (np.random.randn (100), colors=['OrangeRed'])\n",
    "plt.show ()"
   ]
  },
  {
   "cell_type": "code",
   "execution_count": 11,
   "metadata": {},
   "outputs": [
    {
     "data": {
      "application/vnd.jupyter.widget-view+json": {
       "model_id": "e07551f00eff4c2cb1db702e6263deba",
       "version_major": 2,
       "version_minor": 0
      },
      "text/html": [
       "<p>Failed to display Jupyter Widget of type <code>Figure</code>.</p>\n",
       "<p>\n",
       "  If you're reading this message in Jupyter Notebook or JupyterLab, it may mean\n",
       "  that the widgets JavaScript is still loading. If this message persists, it\n",
       "  likely means that the widgets JavaScript library is either not installed or\n",
       "  not enabled. See the <a href=\"https://ipywidgets.readthedocs.io/en/stable/user_install.html\">Jupyter\n",
       "  Widgets Documentation</a> for setup instructions.\n",
       "</p>\n",
       "<p>\n",
       "  If you're reading this message in another notebook frontend (for example, a static\n",
       "  rendering on GitHub or <a href=\"https://nbviewer.jupyter.org/\">NBViewer</a>),\n",
       "  it may mean that your frontend doesn't currently support widgets.\n",
       "</p>\n"
      ],
      "text/plain": [
       "Figure(axes=[Axis(label='X', scale=OrdinalScale()), Axis(label='Y', orientation='vertical', scale=LinearScale())], fig_margin={'top': 60, 'bottom': 60, 'left': 60, 'right': 60}, layout=Layout(min_width='125px'), marks=[Bars(colors=['#1f77b4', '#ff7f0e', '#2ca02c', '#d62728', '#9467bd', '#8c564b', '#e377c2', '#7f7f7f', '#bcbd22', '#17becf'], interactions={'hover': 'tooltip'}, scales={'x': OrdinalScale(), 'y': LinearScale()}, scales_metadata={'x': {'orientation': 'horizontal', 'dimension': 'x'}, 'y': {'orientation': 'vertical', 'dimension': 'y'}, 'color': {'dimension': 'color'}}, tooltip_style={'opacity': 0.9}, x=array([0, 1, 2, 3, 4, 5, 6, 7, 8, 9]), y=array([[-1.57308533, -1.15659125, -2.2275725 , -2.34984913, -0.48071818,\n",
       "        -0.39741715, -1.04812323, -2.13056855, -2.43846756, -2.92699898],\n",
       "       [ 0.39170528, -0.15853192, -0.64640207, -1.79979082, -0.63209963,\n",
       "        -2.37204962, -2.06415441, -0.62939506, -0.64440411, -0.41232906]])), Lines(colors=['#1f77b4', '#ff7f0e', '#2ca02c', '#d62728', '#9467bd', '#8c564b', '#e377c2', '#7f7f7f', '#bcbd22', '#17becf'], interactions={'hover': 'tooltip'}, scales={'x': OrdinalScale(), 'y': LinearScale()}, scales_metadata={'x': {'orientation': 'horizontal', 'dimension': 'x'}, 'y': {'orientation': 'vertical', 'dimension': 'y'}, 'color': {'dimension': 'color'}}, tooltip_style={'opacity': 0.9}, x=array([0, 1, 2, 3, 4, 5, 6, 7, 8, 9]), y=array([-1.57308533, -1.15659125, -2.2275725 , -2.34984913, -0.48071818,\n",
       "       -0.39741715, -1.04812323, -2.13056855, -2.43846756, -2.92699898]))], scale_x=LinearScale(allow_padding=False, max=1.0, min=0.0), scale_y=LinearScale(allow_padding=False, max=1.0, min=0.0))"
      ]
     },
     "metadata": {},
     "output_type": "display_data"
    }
   ],
   "source": [
    "x_data = range (100)\n",
    "y_data_1 = np.cumsum (np.random.randn (100))\n",
    "y_data_2 = np.cumsum (np.random.randn (100))\n",
    "y_data_3 = np.cumsum (np.random.randn (100))\n",
    "\n",
    "x_sc = bq.OrdinalScale ()\n",
    "y_sc = bq.LinearScale ()\n",
    "y_sc2 = bq.LinearScale ()\n",
    "\n",
    "xax = bq.Axis (label='X', scale=x_sc)\n",
    "yax = bq.Axis (label='Y', scale=y_sc, orientation='vertical')\n",
    "\n",
    "line_chart = bq.Lines (x = x_data [:10], y=[y_data_1[:10]], scales={'x': x_sc, 'y': y_sc2})\n",
    "#line_chart2 = bq.Lines (x = x_data [:10], y=[y_data_1[:10]], scales={'x': x_sc, 'y': y_sc2})\n",
    "bar_chart = bq.Bars (x = x_data [:10], y=[y_data_1[:10], y_data_2[:10]], scales={'x': x_sc, 'y': y_sc})\n",
    "fig = bq.Figure (axes=[xax, yax], marks=[bar_chart, line_chart])\n",
    "display (fig)"
   ]
  },
  {
   "cell_type": "markdown",
   "metadata": {},
   "source": [
    "## Clotures en Python, mot-clé <i>nonlocal</i>"
   ]
  },
  {
   "cell_type": "code",
   "execution_count": 12,
   "metadata": {},
   "outputs": [
    {
     "data": {
      "text/plain": [
       "4"
      ]
     },
     "execution_count": 12,
     "metadata": {},
     "output_type": "execute_result"
    }
   ],
   "source": [
    "def foo ():\n",
    "    x = 3\n",
    "    def bar ():\n",
    "        nonlocal x\n",
    "        x +=1\n",
    "        return x\n",
    "    return bar\n",
    "bar = foo ()\n",
    "bar ()"
   ]
  },
  {
   "cell_type": "code",
   "execution_count": 13,
   "metadata": {},
   "outputs": [
    {
     "ename": "NameError",
     "evalue": "name 'TestSelection' is not defined",
     "output_type": "error",
     "traceback": [
      "\u001b[0;31m---------------------------------------------------------------------------\u001b[0m",
      "\u001b[0;31mNameError\u001b[0m                                 Traceback (most recent call last)",
      "\u001b[0;32m<ipython-input-13-9f171e0be82d>\u001b[0m in \u001b[0;36m<module>\u001b[0;34m()\u001b[0m\n\u001b[1;32m      1\u001b[0m \u001b[0;32mimport\u001b[0m \u001b[0mipywidgets\u001b[0m\u001b[0;34m.\u001b[0m\u001b[0mwidgets\u001b[0m \u001b[0;32mas\u001b[0m \u001b[0mwidgets\u001b[0m\u001b[0;34m\u001b[0m\u001b[0m\n\u001b[1;32m      2\u001b[0m \u001b[0;34m\u001b[0m\u001b[0m\n\u001b[0;32m----> 3\u001b[0;31m \u001b[0;32mclass\u001b[0m \u001b[0mTestSelection\u001b[0m\u001b[0;34m:\u001b[0m\u001b[0;34m\u001b[0m\u001b[0m\n\u001b[0m\u001b[1;32m      4\u001b[0m     \u001b[0mn\u001b[0m \u001b[0;34m=\u001b[0m \u001b[0;36m1000\u001b[0m\u001b[0;34m\u001b[0m\u001b[0m\n\u001b[1;32m      5\u001b[0m     \u001b[0mx_sc\u001b[0m \u001b[0;34m=\u001b[0m \u001b[0mbq\u001b[0m\u001b[0;34m.\u001b[0m\u001b[0mLinearScale\u001b[0m \u001b[0;34m(\u001b[0m\u001b[0;34m)\u001b[0m\u001b[0;34m\u001b[0m\u001b[0m\n",
      "\u001b[0;32m<ipython-input-13-9f171e0be82d>\u001b[0m in \u001b[0;36mTestSelection\u001b[0;34m()\u001b[0m\n\u001b[1;32m     19\u001b[0m \u001b[0;34m\u001b[0m\u001b[0m\n\u001b[1;32m     20\u001b[0m     \u001b[0mintsel\u001b[0m \u001b[0;34m=\u001b[0m \u001b[0mbq\u001b[0m\u001b[0;34m.\u001b[0m\u001b[0minteracts\u001b[0m\u001b[0;34m.\u001b[0m\u001b[0mFastIntervalSelector\u001b[0m \u001b[0;34m(\u001b[0m\u001b[0mscale\u001b[0m \u001b[0;34m=\u001b[0m \u001b[0mx_sc\u001b[0m\u001b[0;34m,\u001b[0m \u001b[0mmarks\u001b[0m\u001b[0;34m=\u001b[0m\u001b[0;34m[\u001b[0m\u001b[0mlines\u001b[0m\u001b[0;34m]\u001b[0m\u001b[0;34m)\u001b[0m\u001b[0;34m\u001b[0m\u001b[0m\n\u001b[0;32m---> 21\u001b[0;31m     \u001b[0mintsel\u001b[0m\u001b[0;34m.\u001b[0m\u001b[0mobserve\u001b[0m \u001b[0;34m(\u001b[0m\u001b[0mTestSelection\u001b[0m\u001b[0;34m.\u001b[0m\u001b[0m_foo\u001b[0m\u001b[0;34m,\u001b[0m \u001b[0mnames\u001b[0m\u001b[0;34m=\u001b[0m\u001b[0;34m[\u001b[0m\u001b[0;34m'selected'\u001b[0m\u001b[0;34m]\u001b[0m\u001b[0;34m)\u001b[0m\u001b[0;34m\u001b[0m\u001b[0m\n\u001b[0m\u001b[1;32m     22\u001b[0m \u001b[0;34m\u001b[0m\u001b[0m\n\u001b[1;32m     23\u001b[0m \u001b[0;34m\u001b[0m\u001b[0m\n",
      "\u001b[0;31mNameError\u001b[0m: name 'TestSelection' is not defined"
     ]
    }
   ],
   "source": [
    "import ipywidgets.widgets as widgets\n",
    "\n",
    "class TestSelection:\n",
    "    n = 1000\n",
    "    x_sc = bq.LinearScale ()\n",
    "    y_sc = bq.LinearScale ()\n",
    "    \n",
    "    xs = np.arange (n)\n",
    "    ys = np.cumsum (np.random.randn (2,n), axis=1)\n",
    "    \n",
    "    lines = bq.Lines (x=xs, y=ys, scales={'x': x_sc, 'y': y_sc}, colors=['red', 'green'])\n",
    "    \n",
    "    db = widgets.Label ()\n",
    "    db.value = \"                                                   \"\n",
    "            \n",
    "    @staticmethod\n",
    "    def _foo (change):\n",
    "        TestSelection.db.value = str (change['new'])\n",
    "    \n",
    "    intsel = bq.interacts.FastIntervalSelector (scale = x_sc, marks=[lines])\n",
    "    intsel.observe (TestSelection._foo, names=['selected'])\n",
    "\n",
    "   \n",
    "    fig = bq.Figure (marks=[lines], interaction=intsel)\n"
   ]
  },
  {
   "cell_type": "code",
   "execution_count": null,
   "metadata": {},
   "outputs": [],
   "source": [
    "display (TestSelection.fig)\n",
    "display (TestSelection.db)"
   ]
  },
  {
   "cell_type": "code",
   "execution_count": null,
   "metadata": {},
   "outputs": [],
   "source": [
    "display (TestSelection.db)"
   ]
  },
  {
   "cell_type": "code",
   "execution_count": null,
   "metadata": {},
   "outputs": [],
   "source": [
    "TestSelection.foo()"
   ]
  },
  {
   "cell_type": "code",
   "execution_count": null,
   "metadata": {},
   "outputs": [],
   "source": [
    "foo"
   ]
  },
  {
   "cell_type": "code",
   "execution_count": null,
   "metadata": {},
   "outputs": [],
   "source": [
    "del foo"
   ]
  },
  {
   "cell_type": "code",
   "execution_count": null,
   "metadata": {},
   "outputs": [],
   "source": [
    "TestSelection.foo (\"z\")"
   ]
  },
  {
   "cell_type": "code",
   "execution_count": null,
   "metadata": {},
   "outputs": [],
   "source": [
    "FOO.db"
   ]
  },
  {
   "cell_type": "code",
   "execution_count": null,
   "metadata": {},
   "outputs": [],
   "source": [
    "print (dir (FOO))"
   ]
  },
  {
   "cell_type": "code",
   "execution_count": null,
   "metadata": {},
   "outputs": [],
   "source": []
  }
 ],
 "metadata": {
  "kernelspec": {
   "display_name": "Python 3",
   "language": "python",
   "name": "python3"
  },
  "language_info": {
   "codemirror_mode": {
    "name": "ipython",
    "version": 3
   },
   "file_extension": ".py",
   "mimetype": "text/x-python",
   "name": "python",
   "nbconvert_exporter": "python",
   "pygments_lexer": "ipython3",
   "version": "3.6.1"
  }
 },
 "nbformat": 4,
 "nbformat_minor": 2
}
